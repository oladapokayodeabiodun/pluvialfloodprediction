{
 "cells": [
  {
   "cell_type": "code",
   "execution_count": 1,
   "metadata": {
    "id": "wlI_NMOVa9-7"
   },
   "outputs": [
    {
     "ename": "ImportError",
     "evalue": "cannot import name 'plot_confusion_matrix' from 'sklearn.metrics' (C:\\Users\\Hp\\anaconda3\\lib\\site-packages\\sklearn\\metrics\\__init__.py)",
     "output_type": "error",
     "traceback": [
      "\u001b[1;31m---------------------------------------------------------------------------\u001b[0m",
      "\u001b[1;31mImportError\u001b[0m                               Traceback (most recent call last)",
      "Input \u001b[1;32mIn [1]\u001b[0m, in \u001b[0;36m<cell line: 19>\u001b[1;34m()\u001b[0m\n\u001b[0;32m     17\u001b[0m \u001b[38;5;28;01mfrom\u001b[39;00m \u001b[38;5;21;01msklearn\u001b[39;00m\u001b[38;5;21;01m.\u001b[39;00m\u001b[38;5;21;01mmetrics\u001b[39;00m \u001b[38;5;28;01mimport\u001b[39;00m roc_auc_score\n\u001b[0;32m     18\u001b[0m \u001b[38;5;28;01mfrom\u001b[39;00m \u001b[38;5;21;01msklearn\u001b[39;00m\u001b[38;5;21;01m.\u001b[39;00m\u001b[38;5;21;01mdatasets\u001b[39;00m \u001b[38;5;28;01mimport\u001b[39;00m make_classification\n\u001b[1;32m---> 19\u001b[0m \u001b[38;5;28;01mfrom\u001b[39;00m \u001b[38;5;21;01msklearn\u001b[39;00m\u001b[38;5;21;01m.\u001b[39;00m\u001b[38;5;21;01mmetrics\u001b[39;00m \u001b[38;5;28;01mimport\u001b[39;00m plot_confusion_matrix\n\u001b[0;32m     20\u001b[0m \u001b[38;5;28;01mfrom\u001b[39;00m \u001b[38;5;21;01msklearn\u001b[39;00m\u001b[38;5;21;01m.\u001b[39;00m\u001b[38;5;21;01mmulticlass\u001b[39;00m \u001b[38;5;28;01mimport\u001b[39;00m OneVsRestClassifier\n\u001b[0;32m     21\u001b[0m \u001b[38;5;28;01mfrom\u001b[39;00m \u001b[38;5;21;01msklearn\u001b[39;00m\u001b[38;5;21;01m.\u001b[39;00m\u001b[38;5;21;01mmetrics\u001b[39;00m \u001b[38;5;28;01mimport\u001b[39;00m roc_curve\n",
      "\u001b[1;31mImportError\u001b[0m: cannot import name 'plot_confusion_matrix' from 'sklearn.metrics' (C:\\Users\\Hp\\anaconda3\\lib\\site-packages\\sklearn\\metrics\\__init__.py)"
     ]
    }
   ],
   "source": [
    "## Reading libraries\n",
    "import pandas as pd\n",
    "import seaborn as sns\n",
    "import matplotlib.pyplot as plt\n",
    "import numpy as np\n",
    "from sklearn.cluster import KMeans\n",
    "from sklearn.model_selection import KFold\n",
    "from sklearn.metrics import mean_squared_error\n",
    "from sklearn.decomposition import PCA\n",
    "import warnings\n",
    "from sklearn import metrics\n",
    "from sklearn.metrics import mean_squared_error,log_loss\n",
    "from sklearn.model_selection import KFold,StratifiedKFold,GridSearchCV,RandomizedSearchCV\n",
    "from sklearn.preprocessing import LabelEncoder,OneHotEncoder\n",
    "import requests\n",
    "from io import StringIO \n",
    "from sklearn.metrics import roc_auc_score\n",
    "from sklearn.datasets import make_classification\n",
    "from sklearn.metrics import plot_confusion_matrix\n",
    "from sklearn.multiclass import OneVsRestClassifier\n",
    "from sklearn.metrics import roc_curve\n",
    "from sklearn.metrics import roc_auc_score"
   ]
  },
  {
   "cell_type": "markdown",
   "metadata": {
    "id": "fF0QgY7juLQ9"
   },
   "source": [
    "## EDA\n"
   ]
  },
  {
   "cell_type": "code",
   "execution_count": 2,
   "metadata": {
    "id": "lH6J3tGebHS5"
   },
   "outputs": [],
   "source": [
    "train  = pd.read_excel(\"dataset.xlsx\")"
   ]
  },
  {
   "cell_type": "code",
   "execution_count": 3,
   "metadata": {
    "colab": {
     "base_uri": "https://localhost:8080/",
     "height": 195
    },
    "id": "Al3VBO__bbYB",
    "outputId": "7fbbcb27-1c34-4e58-907f-40b5595d6e58"
   },
   "outputs": [
    {
     "data": {
      "text/html": [
       "<div>\n",
       "<style scoped>\n",
       "    .dataframe tbody tr th:only-of-type {\n",
       "        vertical-align: middle;\n",
       "    }\n",
       "\n",
       "    .dataframe tbody tr th {\n",
       "        vertical-align: top;\n",
       "    }\n",
       "\n",
       "    .dataframe thead th {\n",
       "        text-align: right;\n",
       "    }\n",
       "</style>\n",
       "<table border=\"1\" class=\"dataframe\">\n",
       "  <thead>\n",
       "    <tr style=\"text-align: right;\">\n",
       "      <th></th>\n",
       "      <th>X</th>\n",
       "      <th>Y</th>\n",
       "      <th>Slope</th>\n",
       "      <th>Curvature</th>\n",
       "      <th>Aspect</th>\n",
       "      <th>TWI</th>\n",
       "      <th>FA</th>\n",
       "      <th>Drainage</th>\n",
       "      <th>Rainfall</th>\n",
       "      <th>SUSCEP</th>\n",
       "    </tr>\n",
       "  </thead>\n",
       "  <tbody>\n",
       "    <tr>\n",
       "      <th>0</th>\n",
       "      <td>3.909444</td>\n",
       "      <td>7.443056</td>\n",
       "      <td>46.686142</td>\n",
       "      <td>-3.888000e+09</td>\n",
       "      <td>45.000000</td>\n",
       "      <td>-3.250368</td>\n",
       "      <td>147.0</td>\n",
       "      <td>228.8528</td>\n",
       "      <td>101.515616</td>\n",
       "      <td>Very_High</td>\n",
       "    </tr>\n",
       "    <tr>\n",
       "      <th>1</th>\n",
       "      <td>3.908611</td>\n",
       "      <td>7.442778</td>\n",
       "      <td>52.151768</td>\n",
       "      <td>1.296000e+09</td>\n",
       "      <td>60.945396</td>\n",
       "      <td>-4.313832</td>\n",
       "      <td>61.0</td>\n",
       "      <td>229.6781</td>\n",
       "      <td>80.409863</td>\n",
       "      <td>Very_High</td>\n",
       "    </tr>\n",
       "    <tr>\n",
       "      <th>2</th>\n",
       "      <td>3.908889</td>\n",
       "      <td>7.442778</td>\n",
       "      <td>66.484085</td>\n",
       "      <td>1.296000e+09</td>\n",
       "      <td>67.619865</td>\n",
       "      <td>-8.327622</td>\n",
       "      <td>1.0</td>\n",
       "      <td>230.5920</td>\n",
       "      <td>78.986849</td>\n",
       "      <td>Very_High</td>\n",
       "    </tr>\n",
       "    <tr>\n",
       "      <th>3</th>\n",
       "      <td>3.909167</td>\n",
       "      <td>7.442778</td>\n",
       "      <td>58.007183</td>\n",
       "      <td>-2.592000e+09</td>\n",
       "      <td>38.659809</td>\n",
       "      <td>-4.707937</td>\n",
       "      <td>51.0</td>\n",
       "      <td>235.4210</td>\n",
       "      <td>81.953151</td>\n",
       "      <td>Very_High</td>\n",
       "    </tr>\n",
       "    <tr>\n",
       "      <th>4</th>\n",
       "      <td>3.909444</td>\n",
       "      <td>7.442778</td>\n",
       "      <td>60.503792</td>\n",
       "      <td>-1.296000e+09</td>\n",
       "      <td>351.869904</td>\n",
       "      <td>-5.985817</td>\n",
       "      <td>15.0</td>\n",
       "      <td>234.4346</td>\n",
       "      <td>85.866027</td>\n",
       "      <td>Very_High</td>\n",
       "    </tr>\n",
       "  </tbody>\n",
       "</table>\n",
       "</div>"
      ],
      "text/plain": [
       "          X         Y      Slope    Curvature       Aspect       TWI     FA  \\\n",
       "0  3.909444  7.443056  46.686142 -3.888000e+09   45.000000 -3.250368  147.0   \n",
       "1  3.908611  7.442778  52.151768  1.296000e+09   60.945396 -4.313832   61.0   \n",
       "2  3.908889  7.442778  66.484085  1.296000e+09   67.619865 -8.327622    1.0   \n",
       "3  3.909167  7.442778  58.007183 -2.592000e+09   38.659809 -4.707937   51.0   \n",
       "4  3.909444  7.442778  60.503792 -1.296000e+09  351.869904 -5.985817   15.0   \n",
       "\n",
       "   Drainage    Rainfall     SUSCEP  \n",
       "0  228.8528  101.515616  Very_High  \n",
       "1  229.6781   80.409863  Very_High  \n",
       "2  230.5920   78.986849  Very_High  \n",
       "3  235.4210   81.953151  Very_High  \n",
       "4  234.4346   85.866027  Very_High  "
      ]
     },
     "execution_count": 3,
     "metadata": {},
     "output_type": "execute_result"
    }
   ],
   "source": [
    "train.head()"
   ]
  },
  {
   "cell_type": "code",
   "execution_count": 4,
   "metadata": {
    "colab": {
     "base_uri": "https://localhost:8080/"
    },
    "id": "r-5e5JAhbe06",
    "outputId": "442a316f-5a42-4a87-e19d-2ab5ea195672"
   },
   "outputs": [
    {
     "data": {
      "text/plain": [
       "Index(['X', 'Y', 'Slope', 'Curvature ', 'Aspect', 'TWI', 'FA', 'Drainage',\n",
       "       'Rainfall', 'SUSCEP'],\n",
       "      dtype='object')"
      ]
     },
     "execution_count": 4,
     "metadata": {},
     "output_type": "execute_result"
    }
   ],
   "source": [
    "train.columns"
   ]
  },
  {
   "cell_type": "code",
   "execution_count": 5,
   "metadata": {
    "colab": {
     "base_uri": "https://localhost:8080/"
    },
    "id": "v7f5NPLIcGY2",
    "outputId": "197c16cf-e5a0-4af5-82fb-8bc7b79c7b55"
   },
   "outputs": [
    {
     "data": {
      "text/plain": [
       "X             float64\n",
       "Y             float64\n",
       "Slope         float64\n",
       "Curvature     float64\n",
       "Aspect        float64\n",
       "TWI           float64\n",
       "FA            float64\n",
       "Drainage      float64\n",
       "Rainfall      float64\n",
       "SUSCEP         object\n",
       "dtype: object"
      ]
     },
     "execution_count": 5,
     "metadata": {},
     "output_type": "execute_result"
    }
   ],
   "source": [
    "train.dtypes"
   ]
  },
  {
   "cell_type": "code",
   "execution_count": 6,
   "metadata": {},
   "outputs": [
    {
     "data": {
      "text/html": [
       "<div>\n",
       "<style scoped>\n",
       "    .dataframe tbody tr th:only-of-type {\n",
       "        vertical-align: middle;\n",
       "    }\n",
       "\n",
       "    .dataframe tbody tr th {\n",
       "        vertical-align: top;\n",
       "    }\n",
       "\n",
       "    .dataframe thead th {\n",
       "        text-align: right;\n",
       "    }\n",
       "</style>\n",
       "<table border=\"1\" class=\"dataframe\">\n",
       "  <thead>\n",
       "    <tr style=\"text-align: right;\">\n",
       "      <th></th>\n",
       "      <th>X</th>\n",
       "      <th>Y</th>\n",
       "      <th>Slope</th>\n",
       "      <th>Curvature</th>\n",
       "      <th>Aspect</th>\n",
       "      <th>TWI</th>\n",
       "      <th>FA</th>\n",
       "      <th>Drainage</th>\n",
       "      <th>Rainfall</th>\n",
       "      <th>SUSCEP</th>\n",
       "    </tr>\n",
       "  </thead>\n",
       "  <tbody>\n",
       "    <tr>\n",
       "      <th>count</th>\n",
       "      <td>144401.000000</td>\n",
       "      <td>144401.000000</td>\n",
       "      <td>1.441190e+05</td>\n",
       "      <td>1.444010e+05</td>\n",
       "      <td>1.444010e+05</td>\n",
       "      <td>1.444010e+05</td>\n",
       "      <td>1.444010e+05</td>\n",
       "      <td>144401.000000</td>\n",
       "      <td>144401.000000</td>\n",
       "      <td>144401</td>\n",
       "    </tr>\n",
       "    <tr>\n",
       "      <th>unique</th>\n",
       "      <td>NaN</td>\n",
       "      <td>NaN</td>\n",
       "      <td>NaN</td>\n",
       "      <td>NaN</td>\n",
       "      <td>NaN</td>\n",
       "      <td>NaN</td>\n",
       "      <td>NaN</td>\n",
       "      <td>NaN</td>\n",
       "      <td>NaN</td>\n",
       "      <td>5</td>\n",
       "    </tr>\n",
       "    <tr>\n",
       "      <th>top</th>\n",
       "      <td>NaN</td>\n",
       "      <td>NaN</td>\n",
       "      <td>NaN</td>\n",
       "      <td>NaN</td>\n",
       "      <td>NaN</td>\n",
       "      <td>NaN</td>\n",
       "      <td>NaN</td>\n",
       "      <td>NaN</td>\n",
       "      <td>NaN</td>\n",
       "      <td>Moderate</td>\n",
       "    </tr>\n",
       "    <tr>\n",
       "      <th>freq</th>\n",
       "      <td>NaN</td>\n",
       "      <td>NaN</td>\n",
       "      <td>NaN</td>\n",
       "      <td>NaN</td>\n",
       "      <td>NaN</td>\n",
       "      <td>NaN</td>\n",
       "      <td>NaN</td>\n",
       "      <td>NaN</td>\n",
       "      <td>NaN</td>\n",
       "      <td>38116</td>\n",
       "    </tr>\n",
       "    <tr>\n",
       "      <th>mean</th>\n",
       "      <td>3.891534</td>\n",
       "      <td>7.374551</td>\n",
       "      <td>-2.502788e+35</td>\n",
       "      <td>-8.342043e+35</td>\n",
       "      <td>-1.673122e+35</td>\n",
       "      <td>-2.120858e+34</td>\n",
       "      <td>-2.120858e+35</td>\n",
       "      <td>219.714542</td>\n",
       "      <td>74.786932</td>\n",
       "      <td>NaN</td>\n",
       "    </tr>\n",
       "    <tr>\n",
       "      <th>std</th>\n",
       "      <td>0.027887</td>\n",
       "      <td>0.032459</td>\n",
       "      <td>9.225150e+36</td>\n",
       "      <td>1.682769e+37</td>\n",
       "      <td>7.543591e+36</td>\n",
       "      <td>2.686356e+36</td>\n",
       "      <td>8.492619e+36</td>\n",
       "      <td>7.057921</td>\n",
       "      <td>8.891617</td>\n",
       "      <td>NaN</td>\n",
       "    </tr>\n",
       "    <tr>\n",
       "      <th>min</th>\n",
       "      <td>3.831111</td>\n",
       "      <td>7.311389</td>\n",
       "      <td>-3.402823e+38</td>\n",
       "      <td>-3.402823e+38</td>\n",
       "      <td>-3.402823e+38</td>\n",
       "      <td>-3.402823e+38</td>\n",
       "      <td>-3.402823e+38</td>\n",
       "      <td>203.729300</td>\n",
       "      <td>59.541096</td>\n",
       "      <td>NaN</td>\n",
       "    </tr>\n",
       "    <tr>\n",
       "      <th>25%</th>\n",
       "      <td>3.868889</td>\n",
       "      <td>7.348333</td>\n",
       "      <td>5.134019e+01</td>\n",
       "      <td>-2.592000e+09</td>\n",
       "      <td>1.013099e+02</td>\n",
       "      <td>-8.654586e+00</td>\n",
       "      <td>0.000000e+00</td>\n",
       "      <td>214.286900</td>\n",
       "      <td>68.140822</td>\n",
       "      <td>NaN</td>\n",
       "    </tr>\n",
       "    <tr>\n",
       "      <th>50%</th>\n",
       "      <td>3.891667</td>\n",
       "      <td>7.374167</td>\n",
       "      <td>6.198023e+01</td>\n",
       "      <td>0.000000e+00</td>\n",
       "      <td>1.900080e+02</td>\n",
       "      <td>-8.006991e+00</td>\n",
       "      <td>1.000000e+00</td>\n",
       "      <td>220.631300</td>\n",
       "      <td>73.873425</td>\n",
       "      <td>NaN</td>\n",
       "    </tr>\n",
       "    <tr>\n",
       "      <th>75%</th>\n",
       "      <td>3.913611</td>\n",
       "      <td>7.400278</td>\n",
       "      <td>6.916712e+01</td>\n",
       "      <td>2.592000e+09</td>\n",
       "      <td>2.700000e+02</td>\n",
       "      <td>-6.709276e+00</td>\n",
       "      <td>7.000000e+00</td>\n",
       "      <td>224.191400</td>\n",
       "      <td>81.329315</td>\n",
       "      <td>NaN</td>\n",
       "    </tr>\n",
       "    <tr>\n",
       "      <th>max</th>\n",
       "      <td>3.954444</td>\n",
       "      <td>7.443056</td>\n",
       "      <td>8.657541e+01</td>\n",
       "      <td>3.888000e+10</td>\n",
       "      <td>3.591449e+02</td>\n",
       "      <td>1.168344e+01</td>\n",
       "      <td>4.579360e+05</td>\n",
       "      <td>235.421000</td>\n",
       "      <td>101.515616</td>\n",
       "      <td>NaN</td>\n",
       "    </tr>\n",
       "  </tbody>\n",
       "</table>\n",
       "</div>"
      ],
      "text/plain": [
       "                    X              Y         Slope    Curvature   \\\n",
       "count   144401.000000  144401.000000  1.441190e+05  1.444010e+05   \n",
       "unique            NaN            NaN           NaN           NaN   \n",
       "top               NaN            NaN           NaN           NaN   \n",
       "freq              NaN            NaN           NaN           NaN   \n",
       "mean         3.891534       7.374551 -2.502788e+35 -8.342043e+35   \n",
       "std          0.027887       0.032459  9.225150e+36  1.682769e+37   \n",
       "min          3.831111       7.311389 -3.402823e+38 -3.402823e+38   \n",
       "25%          3.868889       7.348333  5.134019e+01 -2.592000e+09   \n",
       "50%          3.891667       7.374167  6.198023e+01  0.000000e+00   \n",
       "75%          3.913611       7.400278  6.916712e+01  2.592000e+09   \n",
       "max          3.954444       7.443056  8.657541e+01  3.888000e+10   \n",
       "\n",
       "              Aspect           TWI            FA       Drainage  \\\n",
       "count   1.444010e+05  1.444010e+05  1.444010e+05  144401.000000   \n",
       "unique           NaN           NaN           NaN            NaN   \n",
       "top              NaN           NaN           NaN            NaN   \n",
       "freq             NaN           NaN           NaN            NaN   \n",
       "mean   -1.673122e+35 -2.120858e+34 -2.120858e+35     219.714542   \n",
       "std     7.543591e+36  2.686356e+36  8.492619e+36       7.057921   \n",
       "min    -3.402823e+38 -3.402823e+38 -3.402823e+38     203.729300   \n",
       "25%     1.013099e+02 -8.654586e+00  0.000000e+00     214.286900   \n",
       "50%     1.900080e+02 -8.006991e+00  1.000000e+00     220.631300   \n",
       "75%     2.700000e+02 -6.709276e+00  7.000000e+00     224.191400   \n",
       "max     3.591449e+02  1.168344e+01  4.579360e+05     235.421000   \n",
       "\n",
       "             Rainfall    SUSCEP  \n",
       "count   144401.000000    144401  \n",
       "unique            NaN         5  \n",
       "top               NaN  Moderate  \n",
       "freq              NaN     38116  \n",
       "mean        74.786932       NaN  \n",
       "std          8.891617       NaN  \n",
       "min         59.541096       NaN  \n",
       "25%         68.140822       NaN  \n",
       "50%         73.873425       NaN  \n",
       "75%         81.329315       NaN  \n",
       "max        101.515616       NaN  "
      ]
     },
     "execution_count": 6,
     "metadata": {},
     "output_type": "execute_result"
    }
   ],
   "source": [
    "train.describe(include='all')"
   ]
  },
  {
   "cell_type": "code",
   "execution_count": 8,
   "metadata": {},
   "outputs": [
    {
     "data": {
      "text/plain": [
       "X             0.000000\n",
       "Y             0.000000\n",
       "Slope         0.001953\n",
       "Curvature     0.000000\n",
       "Aspect        0.000000\n",
       "TWI           0.000000\n",
       "FA            0.000000\n",
       "Drainage      0.000000\n",
       "Rainfall      0.000000\n",
       "SUSCEP        0.000000\n",
       "dtype: float64"
      ]
     },
     "execution_count": 8,
     "metadata": {},
     "output_type": "execute_result"
    }
   ],
   "source": [
    "train.isnull().mean()"
   ]
  },
  {
   "cell_type": "markdown",
   "metadata": {},
   "source": [
    "## FILL IN MISSING VALUES AND ZEROS"
   ]
  },
  {
   "cell_type": "code",
   "execution_count": 9,
   "metadata": {},
   "outputs": [],
   "source": [
    "#to replace all zero value with values before it \n",
    "train = train.replace(to_replace=0, method='ffill')"
   ]
  },
  {
   "cell_type": "code",
   "execution_count": 10,
   "metadata": {},
   "outputs": [],
   "source": [
    "train = train.fillna(method='ffill')"
   ]
  },
  {
   "cell_type": "code",
   "execution_count": 11,
   "metadata": {
    "colab": {
     "base_uri": "https://localhost:8080/",
     "height": 1000
    },
    "id": "_2ehd9bMuNfW",
    "outputId": "76fb68cb-dc26-4c37-c25d-05d49dc09ea4"
   },
   "outputs": [
    {
     "data": {
      "image/png": "[encoded data removed]",
      "text/plain": [
       "<Figure size 1440x1440 with 2 Axes>"
      ]
     },
     "metadata": {
      "needs_background": "light"
     },
     "output_type": "display_data"
    }
   ],
   "source": [
    "# Heat map of the data\n",
    "corr_mat= train.corr()\n",
    "top_corr_features = corr_mat.index\n",
    "plt.figure(figsize=(20,20)) \n",
    "g=sns.heatmap(train[top_corr_features].corr(),annot=True,cmap=\"RdYlGn\")"
   ]
  },
  {
   "cell_type": "code",
   "execution_count": 12,
   "metadata": {
    "colab": {
     "base_uri": "https://localhost:8080/",
     "height": 393
    },
    "id": "LUz2ft56cIxg",
    "outputId": "fb473648-2341-4a41-b079-13c191fee3ac"
   },
   "outputs": [
    {
     "data": {
      "text/html": [
       "<div>\n",
       "<style scoped>\n",
       "    .dataframe tbody tr th:only-of-type {\n",
       "        vertical-align: middle;\n",
       "    }\n",
       "\n",
       "    .dataframe tbody tr th {\n",
       "        vertical-align: top;\n",
       "    }\n",
       "\n",
       "    .dataframe thead th {\n",
       "        text-align: right;\n",
       "    }\n",
       "</style>\n",
       "<table border=\"1\" class=\"dataframe\">\n",
       "  <thead>\n",
       "    <tr style=\"text-align: right;\">\n",
       "      <th></th>\n",
       "      <th>X</th>\n",
       "      <th>Y</th>\n",
       "      <th>Slope</th>\n",
       "      <th>Curvature</th>\n",
       "      <th>Aspect</th>\n",
       "      <th>TWI</th>\n",
       "      <th>FA</th>\n",
       "      <th>Drainage</th>\n",
       "      <th>Rainfall</th>\n",
       "    </tr>\n",
       "  </thead>\n",
       "  <tbody>\n",
       "    <tr>\n",
       "      <th>count</th>\n",
       "      <td>144401.000000</td>\n",
       "      <td>144401.000000</td>\n",
       "      <td>1.444010e+05</td>\n",
       "      <td>1.444010e+05</td>\n",
       "      <td>1.444010e+05</td>\n",
       "      <td>1.444010e+05</td>\n",
       "      <td>1.444010e+05</td>\n",
       "      <td>144401.000000</td>\n",
       "      <td>144401.000000</td>\n",
       "    </tr>\n",
       "    <tr>\n",
       "      <th>mean</th>\n",
       "      <td>3.891534</td>\n",
       "      <td>7.374551</td>\n",
       "      <td>-9.025431e+35</td>\n",
       "      <td>-8.342043e+35</td>\n",
       "      <td>-1.673122e+35</td>\n",
       "      <td>-2.120858e+34</td>\n",
       "      <td>-2.144424e+35</td>\n",
       "      <td>219.714542</td>\n",
       "      <td>74.786932</td>\n",
       "    </tr>\n",
       "    <tr>\n",
       "      <th>std</th>\n",
       "      <td>0.027887</td>\n",
       "      <td>0.032459</td>\n",
       "      <td>1.750163e+37</td>\n",
       "      <td>1.682769e+37</td>\n",
       "      <td>7.543591e+36</td>\n",
       "      <td>2.686356e+36</td>\n",
       "      <td>8.539640e+36</td>\n",
       "      <td>7.057921</td>\n",
       "      <td>8.891617</td>\n",
       "    </tr>\n",
       "    <tr>\n",
       "      <th>min</th>\n",
       "      <td>3.831111</td>\n",
       "      <td>7.311389</td>\n",
       "      <td>-3.402823e+38</td>\n",
       "      <td>-3.402823e+38</td>\n",
       "      <td>-3.402823e+38</td>\n",
       "      <td>-3.402823e+38</td>\n",
       "      <td>-3.402823e+38</td>\n",
       "      <td>203.729300</td>\n",
       "      <td>59.541096</td>\n",
       "    </tr>\n",
       "    <tr>\n",
       "      <th>25%</th>\n",
       "      <td>3.868889</td>\n",
       "      <td>7.348333</td>\n",
       "      <td>5.105756e+01</td>\n",
       "      <td>-2.592000e+09</td>\n",
       "      <td>1.040362e+02</td>\n",
       "      <td>-8.654586e+00</td>\n",
       "      <td>1.000000e+00</td>\n",
       "      <td>214.286900</td>\n",
       "      <td>68.140822</td>\n",
       "    </tr>\n",
       "    <tr>\n",
       "      <th>50%</th>\n",
       "      <td>3.891667</td>\n",
       "      <td>7.374167</td>\n",
       "      <td>6.198023e+01</td>\n",
       "      <td>-1.296000e+09</td>\n",
       "      <td>1.913099e+02</td>\n",
       "      <td>-8.006991e+00</td>\n",
       "      <td>3.000000e+00</td>\n",
       "      <td>220.631300</td>\n",
       "      <td>73.873425</td>\n",
       "    </tr>\n",
       "    <tr>\n",
       "      <th>75%</th>\n",
       "      <td>3.913611</td>\n",
       "      <td>7.400278</td>\n",
       "      <td>6.916712e+01</td>\n",
       "      <td>2.592000e+09</td>\n",
       "      <td>2.700000e+02</td>\n",
       "      <td>-6.709276e+00</td>\n",
       "      <td>1.200000e+01</td>\n",
       "      <td>224.191400</td>\n",
       "      <td>81.329315</td>\n",
       "    </tr>\n",
       "    <tr>\n",
       "      <th>max</th>\n",
       "      <td>3.954444</td>\n",
       "      <td>7.443056</td>\n",
       "      <td>8.657541e+01</td>\n",
       "      <td>3.888000e+10</td>\n",
       "      <td>3.591449e+02</td>\n",
       "      <td>1.168344e+01</td>\n",
       "      <td>4.579360e+05</td>\n",
       "      <td>235.421000</td>\n",
       "      <td>101.515616</td>\n",
       "    </tr>\n",
       "  </tbody>\n",
       "</table>\n",
       "</div>"
      ],
      "text/plain": [
       "                   X              Y         Slope    Curvature         Aspect  \\\n",
       "count  144401.000000  144401.000000  1.444010e+05  1.444010e+05  1.444010e+05   \n",
       "mean        3.891534       7.374551 -9.025431e+35 -8.342043e+35 -1.673122e+35   \n",
       "std         0.027887       0.032459  1.750163e+37  1.682769e+37  7.543591e+36   \n",
       "min         3.831111       7.311389 -3.402823e+38 -3.402823e+38 -3.402823e+38   \n",
       "25%         3.868889       7.348333  5.105756e+01 -2.592000e+09  1.040362e+02   \n",
       "50%         3.891667       7.374167  6.198023e+01 -1.296000e+09  1.913099e+02   \n",
       "75%         3.913611       7.400278  6.916712e+01  2.592000e+09  2.700000e+02   \n",
       "max         3.954444       7.443056  8.657541e+01  3.888000e+10  3.591449e+02   \n",
       "\n",
       "                TWI            FA       Drainage       Rainfall  \n",
       "count  1.444010e+05  1.444010e+05  144401.000000  144401.000000  \n",
       "mean  -2.120858e+34 -2.144424e+35     219.714542      74.786932  \n",
       "std    2.686356e+36  8.539640e+36       7.057921       8.891617  \n",
       "min   -3.402823e+38 -3.402823e+38     203.729300      59.541096  \n",
       "25%   -8.654586e+00  1.000000e+00     214.286900      68.140822  \n",
       "50%   -8.006991e+00  3.000000e+00     220.631300      73.873425  \n",
       "75%   -6.709276e+00  1.200000e+01     224.191400      81.329315  \n",
       "max    1.168344e+01  4.579360e+05     235.421000     101.515616  "
      ]
     },
     "execution_count": 12,
     "metadata": {},
     "output_type": "execute_result"
    }
   ],
   "source": [
    "train.describe()"
   ]
  },
  {
   "cell_type": "code",
   "execution_count": 13,
   "metadata": {
    "colab": {
     "base_uri": "https://localhost:8080/"
    },
    "id": "R-4vW7Rxclig",
    "outputId": "f178835c-7c48-44fe-cda3-cc4cb3c32c26"
   },
   "outputs": [
    {
     "data": {
      "text/plain": [
       "Moderate     38116\n",
       "High         34451\n",
       "Low          32252\n",
       "Very_High    23456\n",
       "No_Flood     16126\n",
       "Name: SUSCEP, dtype: int64"
      ]
     },
     "execution_count": 13,
     "metadata": {},
     "output_type": "execute_result"
    }
   ],
   "source": [
    "train['SUSCEP'].value_counts()"
   ]
  },
  {
   "cell_type": "code",
   "execution_count": 14,
   "metadata": {
    "id": "X9yewC_xs1Nt"
   },
   "outputs": [],
   "source": [
    "def convert(x):\n",
    "  if x =='Low':\n",
    "    return 1\n",
    "  elif x =='Moderate':\n",
    "    return 2\n",
    "  elif x == 'High':\n",
    "    return 3\n",
    "  elif x =='Very_High':\n",
    "    return 4\n",
    "  else:\n",
    "    return 0\n",
    "\n",
    "train['SUSCEP'] = train['SUSCEP'].apply(convert)"
   ]
  },
  {
   "cell_type": "code",
   "execution_count": 15,
   "metadata": {
    "colab": {
     "base_uri": "https://localhost:8080/"
    },
    "id": "P9AMtjVTukpD",
    "outputId": "a4b2ad65-ad29-4ea1-fb76-9eebab09c4de"
   },
   "outputs": [
    {
     "data": {
      "text/plain": [
       "2    38116\n",
       "3    34451\n",
       "1    32252\n",
       "4    23456\n",
       "0    16126\n",
       "Name: SUSCEP, dtype: int64"
      ]
     },
     "execution_count": 15,
     "metadata": {},
     "output_type": "execute_result"
    }
   ],
   "source": [
    "train.SUSCEP.value_counts()"
   ]
  },
  {
   "cell_type": "code",
   "execution_count": 16,
   "metadata": {
    "colab": {
     "base_uri": "https://localhost:8080/"
    },
    "id": "OftyZHr9mRAe",
    "outputId": "db241aa8-a71b-4a63-9eb6-1b2e08c8d8f6"
   },
   "outputs": [
    {
     "data": {
      "text/plain": [
       "X             0.0\n",
       "Y             0.0\n",
       "Slope         0.0\n",
       "Curvature     0.0\n",
       "Aspect        0.0\n",
       "TWI           0.0\n",
       "FA            0.0\n",
       "Drainage      0.0\n",
       "Rainfall      0.0\n",
       "SUSCEP        0.0\n",
       "dtype: float64"
      ]
     },
     "execution_count": 16,
     "metadata": {},
     "output_type": "execute_result"
    }
   ],
   "source": [
    "#checking for missing values\n",
    "train.isnull().sum()/train.shape[0]*100"
   ]
  },
  {
   "cell_type": "markdown",
   "metadata": {},
   "source": [
    "## FEATURE SELECTION"
   ]
  },
  {
   "cell_type": "code",
   "execution_count": 17,
   "metadata": {},
   "outputs": [],
   "source": [
    "X = train.drop(['SUSCEP'],axis =1)\n",
    "y = train['SUSCEP']"
   ]
  },
  {
   "cell_type": "code",
   "execution_count": 16,
   "metadata": {},
   "outputs": [
    {
     "data": {
      "image/png": "[encoded data removed]",
      "text/plain": [
       "<Figure size 432x288 with 1 Axes>"
      ]
     },
     "metadata": {
      "needs_background": "light"
     },
     "output_type": "display_data"
    }
   ],
   "source": [
    "#Filter methods\n",
    "from sklearn.feature_selection import mutual_info_classif\n",
    "import matplotlib.pyplot as plt\n",
    "%matplotlib inline\n",
    "\n",
    "importances = mutual_info_classif(X,y)\n",
    "feat_importances = pd.Series(importances,train.columns[0:len(train.columns)-1])\n",
    "feat_importances.plot(kind='barh', color = 'teal')\n",
    "plt.show()"
   ]
  },
  {
   "cell_type": "code",
   "execution_count": null,
   "metadata": {},
   "outputs": [],
   "source": []
  },
  {
   "cell_type": "code",
   "execution_count": null,
   "metadata": {
    "id": "U0o-pVFllSx4"
   },
   "outputs": [],
   "source": []
  },
  {
   "cell_type": "code",
   "execution_count": 20,
   "metadata": {
    "id": "JpLv9-Eic3cO"
   },
   "outputs": [],
   "source": [
    "from sklearn.model_selection import train_test_split\n",
    "#from catboost import CatBoostClassifier\n",
    "from sklearn.metrics import roc_auc_score , accuracy_score"
   ]
  },
  {
   "cell_type": "code",
   "execution_count": 21,
   "metadata": {
    "id": "mtkSTwUlk59v"
   },
   "outputs": [],
   "source": [
    "X_train, X_test, y_train, y_test = train_test_split(X, y, test_size=0.20, random_state=42)"
   ]
  },
  {
   "cell_type": "code",
   "execution_count": null,
   "metadata": {
    "id": "Xx7QSbJMqJ2V"
   },
   "outputs": [],
   "source": []
  },
  {
   "cell_type": "markdown",
   "metadata": {
    "id": "CJC3da8933Q7"
   },
   "source": [
    "### Neural Network"
   ]
  },
  {
   "cell_type": "code",
   "execution_count": 20,
   "metadata": {
    "id": "MWbBQBe-zQeZ"
   },
   "outputs": [
    {
     "name": "stderr",
     "output_type": "stream",
     "text": [
      "C:\\ProgramData\\Anaconda3\\lib\\site-packages\\sklearn\\neural_network\\_multilayer_perceptron.py:471: ConvergenceWarning: lbfgs failed to converge (status=2):\n",
      "ABNORMAL_TERMINATION_IN_LNSRCH.\n",
      "\n",
      "Increase the number of iterations (max_iter) or scale the data as shown in:\n",
      "    https://scikit-learn.org/stable/modules/preprocessing.html\n",
      "  self.n_iter_ = _check_optimize_result(\"lbfgs\", opt_res, self.max_iter)\n"
     ]
    },
    {
     "data": {
      "text/plain": [
       "MLPClassifier(alpha=1e-05, hidden_layer_sizes=(5, 5), random_state=1,\n",
       "              solver='lbfgs')"
      ]
     },
     "execution_count": 20,
     "metadata": {},
     "output_type": "execute_result"
    }
   ],
   "source": [
    "from sklearn.neural_network import MLPClassifier\n",
    "clf = MLPClassifier(solver='lbfgs', alpha=1e-5,hidden_layer_sizes=(5, 5), random_state=1)\n",
    "clf.fit(X_train,y_train)"
   ]
  },
  {
   "cell_type": "code",
   "execution_count": 21,
   "metadata": {
    "id": "5zG1eozj37aI"
   },
   "outputs": [],
   "source": [
    "pred = clf.predict(X_test)"
   ]
  },
  {
   "cell_type": "code",
   "execution_count": 22,
   "metadata": {
    "colab": {
     "base_uri": "https://localhost:8080/"
    },
    "id": "_xXhWH6rs8g7",
    "outputId": "24398fa0-08a6-4d8d-f7e7-7e47e7b4736e"
   },
   "outputs": [
    {
     "data": {
      "text/plain": [
       "0.2394307676326997"
      ]
     },
     "execution_count": 22,
     "metadata": {},
     "output_type": "execute_result"
    }
   ],
   "source": [
    "accuracy_score(y_test,pred)"
   ]
  },
  {
   "cell_type": "code",
   "execution_count": 23,
   "metadata": {},
   "outputs": [
    {
     "data": {
      "image/png": "[encoded data removed]",
      "text/plain": [
       "<Figure size 432x288 with 2 Axes>"
      ]
     },
     "metadata": {
      "needs_background": "light"
     },
     "output_type": "display_data"
    }
   ],
   "source": [
    "plot_confusion_matrix(clf, X_test, y_test)\n",
    "plt.title('Confusion matrix for Neural Network')\n",
    "plt.show()  "
   ]
  },
  {
   "cell_type": "code",
   "execution_count": 24,
   "metadata": {},
   "outputs": [
    {
     "name": "stdout",
     "output_type": "stream",
     "text": [
      "Classification report : \n",
      "               precision    recall  f1-score   support\n",
      "\n",
      "           0       0.00      0.00      0.00      3136\n",
      "           1       0.22      0.49      0.30      6421\n",
      "           2       0.26      0.49      0.34      7689\n",
      "           3       0.00      0.00      0.00      6913\n",
      "           4       0.00      0.00      0.00      4722\n",
      "\n",
      "    accuracy                           0.24     28881\n",
      "   macro avg       0.10      0.20      0.13     28881\n",
      "weighted avg       0.12      0.24      0.16     28881\n",
      "\n"
     ]
    },
    {
     "name": "stderr",
     "output_type": "stream",
     "text": [
      "C:\\ProgramData\\Anaconda3\\lib\\site-packages\\sklearn\\metrics\\_classification.py:1221: UndefinedMetricWarning: Precision and F-score are ill-defined and being set to 0.0 in labels with no predicted samples. Use `zero_division` parameter to control this behavior.\n",
      "  _warn_prf(average, modifier, msg_start, len(result))\n"
     ]
    }
   ],
   "source": [
    "from sklearn.metrics import classification_report\n",
    "\n",
    "\n",
    "# classification report for precision, recall f1-score and accuracy\n",
    "matrix = classification_report(y_test,pred,labels=[0,1,2,3,4])\n",
    "print('Classification report : \\n',matrix)"
   ]
  },
  {
   "cell_type": "code",
   "execution_count": 25,
   "metadata": {},
   "outputs": [
    {
     "data": {
      "image/png": "[encoded data removed]",
      "text/plain": [
       "<Figure size 432x288 with 1 Axes>"
      ]
     },
     "metadata": {
      "needs_background": "light"
     },
     "output_type": "display_data"
    }
   ],
   "source": [
    "# fit model\n",
    "\n",
    "\n",
    "pred_prob = clf.predict_proba(X_test)\n",
    "\n",
    "# roc curve for classes\n",
    "fpr = {}\n",
    "tpr = {}\n",
    "thresh ={}\n",
    "\n",
    "n_class = 5\n",
    "\n",
    "for i in range(n_class):    \n",
    "    fpr[i], tpr[i], thresh[i] = roc_curve(y_test, pred_prob[:,i], pos_label=i)\n",
    "    \n",
    "# plotting    \n",
    "plt.plot(fpr[0], tpr[0], linestyle='--',color='orange', label='Class 0 vs Rest')\n",
    "plt.plot(fpr[1], tpr[1], linestyle='--',color='green', label='Class 1 vs Rest')\n",
    "plt.plot(fpr[2], tpr[2], linestyle='--',color='blue', label='Class 2 vs Rest')\n",
    "plt.plot(fpr[3], tpr[3], linestyle='--',color='red', label='Class 3 vs Rest')\n",
    "plt.plot(fpr[4], tpr[4], linestyle='--',color='white', label='Class 4 vs Rest')\n",
    "plt.title('Multiclass ROC curve for Random Forest')\n",
    "plt.xlabel('False Positive Rate')\n",
    "plt.ylabel('True Positive rate')\n",
    "plt.legend(loc='best')\n",
    "plt.savefig('Multiclass ROC',dpi=300)"
   ]
  },
  {
   "cell_type": "markdown",
   "metadata": {
    "id": "qZT3XC4OqsQ2"
   },
   "source": [
    "## SVM"
   ]
  },
  {
   "cell_type": "code",
   "execution_count": 19,
   "metadata": {
    "id": "HtiOwmYTqvwg"
   },
   "outputs": [],
   "source": [
    "import numpy as np\n",
    "import matplotlib.pyplot as plt\n",
    "from sklearn import svm"
   ]
  },
  {
   "cell_type": "code",
   "execution_count": null,
   "metadata": {
    "id": "UG0iKurdqwcV"
   },
   "outputs": [],
   "source": [
    "# we create an instance of SVM and fit out data. We do not scale our\n",
    "# data since we want to plot the support vectors\n",
    "C = 1.0 # SVM regularization parameter\n",
    "svc = svm.SVC(kernel='linear', C=1,gamma='auto').fit(X, y)"
   ]
  },
  {
   "cell_type": "code",
   "execution_count": null,
   "metadata": {
    "colab": {
     "base_uri": "https://localhost:8080/"
    },
    "id": "SECLJg5ExFD_",
    "outputId": "8d0e0749-47df-4431-f500-5f23a9b96055"
   },
   "outputs": [],
   "source": [
    "y_pred = svc.predict(X_test)\n",
    "from sklearn import metrics\n",
    "\n",
    "# Model Accuracy: how often is the classifier correct?\n",
    "print(\"Accuracy:\",metrics.accuracy_score(y_test, y_pred))"
   ]
  },
  {
   "cell_type": "code",
   "execution_count": null,
   "metadata": {
    "id": "1SD-ZsEutPFk"
   },
   "outputs": [],
   "source": [
    "# Confusion matrix for SVM\n",
    "import matplotlib.pyplot as plt  \n",
    "from sklearn.datasets import make_classification\n",
    "from sklearn.metrics import plot_confusion_matrix\n",
    "from sklearn.model_selection import train_test_split\n",
    "from sklearn.svm import SVC\n",
    "\n",
    "clf = SVC(random_state=0)\n",
    "clf.fit(X_train, y_train)\n",
    "SVC(random_state=0)\n",
    "plot_confusion_matrix(clf, X_test, y_test)  \n",
    "plt.show()  "
   ]
  },
  {
   "cell_type": "code",
   "execution_count": null,
   "metadata": {
    "id": "jblcMO9ktsxe"
   },
   "outputs": [],
   "source": [
    "#multi-class classification\n",
    "from sklearn.multiclass import OneVsRestClassifier\n",
    "from sklearn.metrics import roc_curve\n",
    "from sklearn.metrics import roc_auc_score"
   ]
  },
  {
   "cell_type": "code",
   "execution_count": null,
   "metadata": {},
   "outputs": [],
   "source": [
    "from sklearn.metrics import classification_report\n",
    "\n",
    "\n",
    "# classification report for precision, recall f1-score and accuracy\n",
    "matrix = classification_report(y_test,y_pred,labels=[0,1,2,3,4])\n",
    "print('Classification report : \\n',matrix)"
   ]
  },
  {
   "cell_type": "markdown",
   "metadata": {
    "id": "es_EH7Mbu2lH"
   },
   "source": [
    "## KNN"
   ]
  },
  {
   "cell_type": "code",
   "execution_count": 22,
   "metadata": {
    "colab": {
     "base_uri": "https://localhost:8080/"
    },
    "id": "vtbw7vRfu4iq",
    "outputId": "3610980b-907c-40a5-adde-0a79c27b18a2"
   },
   "outputs": [
    {
     "data": {
      "text/plain": [
       "KNeighborsClassifier(n_neighbors=10)"
      ]
     },
     "execution_count": 22,
     "metadata": {},
     "output_type": "execute_result"
    }
   ],
   "source": [
    "\n",
    "from sklearn.neighbors import KNeighborsClassifier\n",
    "from sklearn.preprocessing import StandardScaler\n",
    "\n",
    "\n",
    "\n",
    "\n",
    "knn = KNeighborsClassifier(n_neighbors=10)\n",
    "\n",
    "\n",
    "\n",
    "# for kNN, we need to scale features\n",
    "\n",
    "knn.fit(X_train, y_train)\n"
   ]
  },
  {
   "cell_type": "code",
   "execution_count": 23,
   "metadata": {
    "colab": {
     "base_uri": "https://localhost:8080/"
    },
    "id": "h1JrY6jBvFNl",
    "outputId": "7e390732-001e-48da-e1d1-1542738feb3d"
   },
   "outputs": [
    {
     "data": {
      "text/plain": [
       "0.5980748589037775"
      ]
     },
     "execution_count": 23,
     "metadata": {},
     "output_type": "execute_result"
    }
   ],
   "source": [
    "from sklearn.metrics import accuracy_score\n",
    "knn_pred = knn.predict(X_test)\n",
    "accuracy_score(y_test, knn_pred)"
   ]
  },
  {
   "cell_type": "code",
   "execution_count": 25,
   "metadata": {},
   "outputs": [
    {
     "data": {
      "image/png": "[encoded data removed]",
      "text/plain": [
       "<Figure size 432x288 with 2 Axes>"
      ]
     },
     "metadata": {
      "needs_background": "light"
     },
     "output_type": "display_data"
    }
   ],
   "source": [
    "plot_confusion_matrix(knn, X_test, y_test)\n",
    "plt.title('Confusion matrix for KNN')\n",
    "plt.show()  "
   ]
  },
  {
   "cell_type": "code",
   "execution_count": 26,
   "metadata": {},
   "outputs": [
    {
     "name": "stdout",
     "output_type": "stream",
     "text": [
      "Classification report : \n",
      "               precision    recall  f1-score   support\n",
      "\n",
      "           0       0.75      0.51      0.60      3136\n",
      "           1       0.62      0.71      0.66      6421\n",
      "           2       0.54      0.66      0.59      7689\n",
      "           3       0.52      0.55      0.53      6913\n",
      "           4       0.85      0.48      0.62      4722\n",
      "\n",
      "    accuracy                           0.60     28881\n",
      "   macro avg       0.66      0.58      0.60     28881\n",
      "weighted avg       0.63      0.60      0.60     28881\n",
      "\n"
     ]
    }
   ],
   "source": [
    "from sklearn.metrics import classification_report\n",
    "\n",
    "\n",
    "# classification report for precision, recall f1-score and accuracy\n",
    "matrix = classification_report(y_test,knn_pred,labels=[0,1,2,3,4])\n",
    "print('Classification report : \\n',matrix)"
   ]
  },
  {
   "cell_type": "markdown",
   "metadata": {},
   "source": [
    "## Decision Tree"
   ]
  },
  {
   "cell_type": "code",
   "execution_count": 27,
   "metadata": {},
   "outputs": [
    {
     "data": {
      "text/plain": [
       "DecisionTreeClassifier(max_depth=3, random_state=17)"
      ]
     },
     "execution_count": 27,
     "metadata": {},
     "output_type": "execute_result"
    }
   ],
   "source": [
    "from sklearn.tree import DecisionTreeClassifier\n",
    "tree = DecisionTreeClassifier(max_depth=3, random_state=17)\n",
    "tree.fit(X_train,y_train)"
   ]
  },
  {
   "cell_type": "code",
   "execution_count": 28,
   "metadata": {
    "colab": {
     "base_uri": "https://localhost:8080/"
    },
    "id": "X5JkpLr9vZeX",
    "outputId": "3f6f079c-3050-4ed4-b6c2-6bf6a6d22c39"
   },
   "outputs": [
    {
     "data": {
      "text/plain": [
       "1.0"
      ]
     },
     "execution_count": 28,
     "metadata": {},
     "output_type": "execute_result"
    }
   ],
   "source": [
    "from sklearn.metrics import accuracy_score\n",
    "tree_pred = tree.predict(X_test)\n",
    "accuracy_score(y_test, tree_pred)"
   ]
  },
  {
   "cell_type": "code",
   "execution_count": 29,
   "metadata": {},
   "outputs": [
    {
     "data": {
      "image/png": "[encoded data removed]",
      "text/plain": [
       "<Figure size 432x288 with 2 Axes>"
      ]
     },
     "metadata": {
      "needs_background": "light"
     },
     "output_type": "display_data"
    }
   ],
   "source": [
    "plot_confusion_matrix(tree, X_test, y_test)\n",
    "plt.title('Confusion matrix for Decision Tree')\n",
    "plt.show()"
   ]
  },
  {
   "cell_type": "code",
   "execution_count": 30,
   "metadata": {},
   "outputs": [
    {
     "name": "stdout",
     "output_type": "stream",
     "text": [
      "Classification report : \n",
      "               precision    recall  f1-score   support\n",
      "\n",
      "           0       1.00      1.00      1.00      3136\n",
      "           1       1.00      1.00      1.00      6421\n",
      "           2       1.00      1.00      1.00      7689\n",
      "           3       1.00      1.00      1.00      6913\n",
      "           4       1.00      1.00      1.00      4722\n",
      "\n",
      "    accuracy                           1.00     28881\n",
      "   macro avg       1.00      1.00      1.00     28881\n",
      "weighted avg       1.00      1.00      1.00     28881\n",
      "\n"
     ]
    }
   ],
   "source": [
    "from sklearn.metrics import classification_report\n",
    "\n",
    "\n",
    "# classification report for precision, recall f1-score and accuracy\n",
    "matrix = classification_report(y_test,tree_pred,labels=[0,1,2,3,4])\n",
    "print('Classification report : \\n',matrix)"
   ]
  },
  {
   "cell_type": "markdown",
   "metadata": {},
   "source": [
    "  ## Random Forest"
   ]
  },
  {
   "cell_type": "code",
   "execution_count": 31,
   "metadata": {},
   "outputs": [],
   "source": [
    "from sklearn.ensemble import RandomForestClassifier as rf\n",
    "\n",
    "clf = rf(max_depth = 2, random_state = 0)\n",
    "\n",
    "clf.fit(X_train,y_train)\n",
    "\n",
    "y_pred = clf.predict(X_test)\n"
   ]
  },
  {
   "cell_type": "code",
   "execution_count": 32,
   "metadata": {},
   "outputs": [
    {
     "data": {
      "text/plain": [
       "0.7304802465288598"
      ]
     },
     "execution_count": 32,
     "metadata": {},
     "output_type": "execute_result"
    }
   ],
   "source": [
    "accuracy_score(y_pred,y_test)"
   ]
  },
  {
   "cell_type": "code",
   "execution_count": 33,
   "metadata": {},
   "outputs": [
    {
     "data": {
      "image/png": "[encoded data removed]",
      "text/plain": [
       "<Figure size 432x288 with 2 Axes>"
      ]
     },
     "metadata": {
      "needs_background": "light"
     },
     "output_type": "display_data"
    }
   ],
   "source": [
    "plot_confusion_matrix(clf, X_test, y_test)\n",
    "plt.title('Confusion matrix for Random Forest')\n",
    "plt.show()"
   ]
  },
  {
   "cell_type": "code",
   "execution_count": 34,
   "metadata": {},
   "outputs": [
    {
     "name": "stdout",
     "output_type": "stream",
     "text": [
      "Classification report : \n",
      "               precision    recall  f1-score   support\n",
      "\n",
      "           0       0.00      0.00      0.00      3136\n",
      "           1       0.67      1.00      0.80      6421\n",
      "           2       1.00      1.00      1.00      7689\n",
      "           3       0.60      1.00      0.75      6913\n",
      "           4       1.00      0.02      0.03      4722\n",
      "\n",
      "    accuracy                           0.73     28881\n",
      "   macro avg       0.65      0.60      0.52     28881\n",
      "weighted avg       0.72      0.73      0.63     28881\n",
      "\n"
     ]
    },
    {
     "name": "stderr",
     "output_type": "stream",
     "text": [
      "C:\\ProgramData\\Anaconda3\\lib\\site-packages\\sklearn\\metrics\\_classification.py:1221: UndefinedMetricWarning: Precision and F-score are ill-defined and being set to 0.0 in labels with no predicted samples. Use `zero_division` parameter to control this behavior.\n",
      "  _warn_prf(average, modifier, msg_start, len(result))\n"
     ]
    }
   ],
   "source": [
    "from sklearn.metrics import classification_report\n",
    "\n",
    "\n",
    "# classification report for precision, recall f1-score and accuracy\n",
    "matrix = classification_report(y_test,y_pred,labels=[0,1,2,3,4])\n",
    "print('Classification report : \\n',matrix)"
   ]
  },
  {
   "cell_type": "code",
   "execution_count": 35,
   "metadata": {},
   "outputs": [
    {
     "data": {
      "image/png": "[encoded data removed]",
      "text/plain": [
       "<Figure size 432x288 with 1 Axes>"
      ]
     },
     "metadata": {
      "needs_background": "light"
     },
     "output_type": "display_data"
    }
   ],
   "source": [
    "# fit model\n",
    "\n",
    "pred = clf.predict(X_test)\n",
    "pred_prob = clf.predict_proba(X_test)\n",
    "\n",
    "# roc curve for classes\n",
    "fpr = {}\n",
    "tpr = {}\n",
    "thresh ={}\n",
    "\n",
    "n_class = 5\n",
    "\n",
    "for i in range(n_class):    \n",
    "    fpr[i], tpr[i], thresh[i] = roc_curve(y_test, pred_prob[:,i], pos_label=i)\n",
    "    \n",
    "# plotting    \n",
    "plt.plot(fpr[0], tpr[0], linestyle='--',color='orange', label='Class 0 vs Rest')\n",
    "plt.plot(fpr[1], tpr[1], linestyle='--',color='green', label='Class 1 vs Rest')\n",
    "plt.plot(fpr[2], tpr[2], linestyle='--',color='blue', label='Class 2 vs Rest')\n",
    "plt.plot(fpr[3], tpr[3], linestyle='--',color='red', label='Class 3 vs Rest')\n",
    "plt.plot(fpr[4], tpr[4], linestyle='--',color='white', label='Class 4 vs Rest')\n",
    "plt.title('Multiclass ROC curve for Random Forest')\n",
    "plt.xlabel('False Positive Rate')\n",
    "plt.ylabel('True Positive rate')\n",
    "plt.legend(loc='best')\n",
    "plt.savefig('Multiclass ROC',dpi=300)"
   ]
  },
  {
   "cell_type": "markdown",
   "metadata": {},
   "source": [
    "## Logistic Regression"
   ]
  },
  {
   "cell_type": "code",
   "execution_count": 36,
   "metadata": {},
   "outputs": [
    {
     "name": "stderr",
     "output_type": "stream",
     "text": [
      "C:\\ProgramData\\Anaconda3\\lib\\site-packages\\sklearn\\linear_model\\_logistic.py:762: ConvergenceWarning: lbfgs failed to converge (status=2):\n",
      "ABNORMAL_TERMINATION_IN_LNSRCH.\n",
      "\n",
      "Increase the number of iterations (max_iter) or scale the data as shown in:\n",
      "    https://scikit-learn.org/stable/modules/preprocessing.html\n",
      "Please also refer to the documentation for alternative solver options:\n",
      "    https://scikit-learn.org/stable/modules/linear_model.html#logistic-regression\n",
      "  n_iter_i = _check_optimize_result(\n"
     ]
    }
   ],
   "source": [
    "from sklearn.linear_model import LogisticRegression \n",
    "clf = LogisticRegression(random_state=0).fit(X_train, y_train)\n",
    "y_pred = clf.predict(X_test)"
   ]
  },
  {
   "cell_type": "code",
   "execution_count": 37,
   "metadata": {},
   "outputs": [
    {
     "data": {
      "text/plain": [
       "0.10858349780132266"
      ]
     },
     "execution_count": 37,
     "metadata": {},
     "output_type": "execute_result"
    }
   ],
   "source": [
    "accuracy_score(y_pred,y_test)"
   ]
  },
  {
   "cell_type": "code",
   "execution_count": 38,
   "metadata": {},
   "outputs": [
    {
     "data": {
      "image/png": "[encoded data removed]",
      "text/plain": [
       "<Figure size 432x288 with 2 Axes>"
      ]
     },
     "metadata": {
      "needs_background": "light"
     },
     "output_type": "display_data"
    }
   ],
   "source": [
    "plot_confusion_matrix(clf, X_test, y_test)\n",
    "plt.title('Confusion matrix for Logistic Regression')\n",
    "plt.show()"
   ]
  },
  {
   "cell_type": "code",
   "execution_count": 39,
   "metadata": {},
   "outputs": [
    {
     "name": "stdout",
     "output_type": "stream",
     "text": [
      "Classification report for Logistic regression : \n",
      "               precision    recall  f1-score   support\n",
      "\n",
      "           0       0.11      1.00      0.20      3136\n",
      "           1       0.00      0.00      0.00      6421\n",
      "           2       0.00      0.00      0.00      7689\n",
      "           3       0.00      0.00      0.00      6913\n",
      "           4       0.00      0.00      0.00      4722\n",
      "\n",
      "    accuracy                           0.11     28881\n",
      "   macro avg       0.02      0.20      0.04     28881\n",
      "weighted avg       0.01      0.11      0.02     28881\n",
      "\n"
     ]
    },
    {
     "name": "stderr",
     "output_type": "stream",
     "text": [
      "C:\\ProgramData\\Anaconda3\\lib\\site-packages\\sklearn\\metrics\\_classification.py:1221: UndefinedMetricWarning: Precision and F-score are ill-defined and being set to 0.0 in labels with no predicted samples. Use `zero_division` parameter to control this behavior.\n",
      "  _warn_prf(average, modifier, msg_start, len(result))\n"
     ]
    }
   ],
   "source": [
    "from sklearn.metrics import classification_report\n",
    "\n",
    "\n",
    "# classification report for precision, recall f1-score and accuracy\n",
    "matrix = classification_report(y_test,y_pred,labels=[0,1,2,3,4])\n",
    "print('Classification report for Logistic regression : \\n',matrix)"
   ]
  },
  {
   "cell_type": "code",
   "execution_count": 40,
   "metadata": {},
   "outputs": [
    {
     "data": {
      "image/png": "[encoded data removed]",
      "text/plain": [
       "<Figure size 432x288 with 1 Axes>"
      ]
     },
     "metadata": {
      "needs_background": "light"
     },
     "output_type": "display_data"
    }
   ],
   "source": [
    "# fit model\n",
    "\n",
    "pred = clf.predict(X_test)\n",
    "pred_prob = clf.predict_proba(X_test)\n",
    "\n",
    "# roc curve for classes\n",
    "fpr = {}\n",
    "tpr = {}\n",
    "thresh ={}\n",
    "\n",
    "n_class = 5\n",
    "\n",
    "for i in range(n_class):    \n",
    "    fpr[i], tpr[i], thresh[i] = roc_curve(y_test, pred_prob[:,i], pos_label=i)\n",
    "    \n",
    "# plotting    \n",
    "plt.plot(fpr[0], tpr[0], linestyle='--',color='orange', label='Class 0 vs Rest')\n",
    "plt.plot(fpr[1], tpr[1], linestyle='--',color='green', label='Class 1 vs Rest')\n",
    "plt.plot(fpr[2], tpr[2], linestyle='--',color='blue', label='Class 2 vs Rest')\n",
    "plt.plot(fpr[3], tpr[3], linestyle='--',color='red', label='Class 3 vs Rest')\n",
    "plt.plot(fpr[4], tpr[4], linestyle='--',color='white', label='Class 4 vs Rest')\n",
    "plt.title('Multiclass ROC curve for Logistic Regression')\n",
    "plt.xlabel('False Positive Rate')\n",
    "plt.ylabel('True Positive rate')\n",
    "plt.legend(loc='best')\n",
    "plt.savefig('Multiclass ROC',dpi=300)"
   ]
  },
  {
   "cell_type": "markdown",
   "metadata": {},
   "source": [
    "## Naives Bayes"
   ]
  },
  {
   "cell_type": "code",
   "execution_count": 41,
   "metadata": {},
   "outputs": [
    {
     "data": {
      "text/plain": [
       "0.2396038918320003"
      ]
     },
     "execution_count": 41,
     "metadata": {},
     "output_type": "execute_result"
    }
   ],
   "source": [
    "from sklearn.naive_bayes import GaussianNB\n",
    "\n",
    "model = GaussianNB()\n",
    "\n",
    "model.fit(X_train,y_train)\n",
    "\n",
    "accuracy_score(y_test,model.predict(X_test))\n"
   ]
  },
  {
   "cell_type": "code",
   "execution_count": 42,
   "metadata": {},
   "outputs": [
    {
     "data": {
      "image/png": "[encoded data removed]",
      "text/plain": [
       "<Figure size 432x288 with 2 Axes>"
      ]
     },
     "metadata": {
      "needs_background": "light"
     },
     "output_type": "display_data"
    }
   ],
   "source": [
    "plot_confusion_matrix(model, X_test, y_test)\n",
    "plt.title('Confusion matrix for Naive Bayes')\n",
    "plt.show()"
   ]
  },
  {
   "cell_type": "code",
   "execution_count": 43,
   "metadata": {},
   "outputs": [
    {
     "name": "stdout",
     "output_type": "stream",
     "text": [
      "Classification report for Logistic regression : \n",
      "               precision    recall  f1-score   support\n",
      "\n",
      "           0       0.11      1.00      0.20      3136\n",
      "           1       0.00      0.00      0.00      6421\n",
      "           2       0.00      0.00      0.00      7689\n",
      "           3       0.00      0.00      0.00      6913\n",
      "           4       0.00      0.00      0.00      4722\n",
      "\n",
      "    accuracy                           0.11     28881\n",
      "   macro avg       0.02      0.20      0.04     28881\n",
      "weighted avg       0.01      0.11      0.02     28881\n",
      "\n"
     ]
    },
    {
     "name": "stderr",
     "output_type": "stream",
     "text": [
      "C:\\ProgramData\\Anaconda3\\lib\\site-packages\\sklearn\\metrics\\_classification.py:1221: UndefinedMetricWarning: Precision and F-score are ill-defined and being set to 0.0 in labels with no predicted samples. Use `zero_division` parameter to control this behavior.\n",
      "  _warn_prf(average, modifier, msg_start, len(result))\n"
     ]
    }
   ],
   "source": [
    "from sklearn.metrics import classification_report\n",
    "\n",
    "\n",
    "# classification report for precision, recall f1-score and accuracy\n",
    "matrix = classification_report(y_test,pred,labels=[0,1,2,3,4])\n",
    "print('Classification report for Logistic regression : \\n',matrix)"
   ]
  },
  {
   "cell_type": "code",
   "execution_count": 44,
   "metadata": {},
   "outputs": [
    {
     "data": {
      "image/png": "[encoded data removed]",
      "text/plain": [
       "<Figure size 432x288 with 1 Axes>"
      ]
     },
     "metadata": {
      "needs_background": "light"
     },
     "output_type": "display_data"
    }
   ],
   "source": [
    "# fit model\n",
    "\n",
    "pred = model.predict(X_test)\n",
    "pred_prob = model.predict_proba(X_test)\n",
    "\n",
    "# roc curve for classes\n",
    "fpr = {}\n",
    "tpr = {}\n",
    "thresh ={}\n",
    "\n",
    "n_class = 5\n",
    "\n",
    "for i in range(n_class):    \n",
    "    fpr[i], tpr[i], thresh[i] = roc_curve(y_test, pred_prob[:,i], pos_label=i)\n",
    "    \n",
    "# plotting    \n",
    "plt.plot(fpr[0], tpr[0], linestyle='--',color='orange', label='Class 0 vs Rest')\n",
    "plt.plot(fpr[1], tpr[1], linestyle='--',color='green', label='Class 1 vs Rest')\n",
    "plt.plot(fpr[2], tpr[2], linestyle='--',color='blue', label='Class 2 vs Rest')\n",
    "plt.plot(fpr[3], tpr[3], linestyle='--',color='red', label='Class 3 vs Rest')\n",
    "plt.plot(fpr[4], tpr[4], linestyle='--',color='white', label='Class 4 vs Rest')\n",
    "plt.title('Multiclass ROC curve for Naive Bayes')\n",
    "plt.xlabel('False Positive Rate')\n",
    "plt.ylabel('True Positive rate')\n",
    "plt.legend(loc='best')\n",
    "plt.savefig('Multiclass ROC',dpi=300)"
   ]
  },
  {
   "cell_type": "markdown",
   "metadata": {},
   "source": [
    "## K-FOLD SPLIT"
   ]
  },
  {
   "cell_type": "code",
   "execution_count": 45,
   "metadata": {},
   "outputs": [],
   "source": [
    "train  = pd.read_csv(\"pluvialflood.csv\")\n",
    "def convert(x):\n",
    "  if x =='Low':\n",
    "    return 1\n",
    "  elif x =='Moderate':\n",
    "    return 2\n",
    "  elif x == 'High':\n",
    "    return 3\n",
    "  elif x =='Very_High':\n",
    "    return 4\n",
    "  else:\n",
    "    return 0\n",
    "\n",
    "train['SUSCEP'] = train['SUSCEP'].apply(convert)\n",
    "\n",
    "X = train.drop(['SUSCEP'],axis =1)\n",
    "y = train['SUSCEP']"
   ]
  },
  {
   "cell_type": "code",
   "execution_count": 46,
   "metadata": {},
   "outputs": [
    {
     "name": "stdout",
     "output_type": "stream",
     "text": [
      "Train: [     1      2      3 ... 144398 144399 144400] Validation: [     0     14     25 ... 144389 144392 144394]\n",
      "Train: [     0      1      2 ... 144398 144399 144400] Validation: [    40     64     66 ... 144379 144386 144391]\n",
      "Train: [     0      1      2 ... 144397 144398 144399] Validation: [     4     24     52 ... 144377 144387 144400]\n",
      "Train: [     0      1      2 ... 144398 144399 144400] Validation: [     5     13     19 ... 144371 144385 144390]\n",
      "Train: [     0      1      2 ... 144396 144398 144400] Validation: [     8     11     32 ... 144393 144397 144399]\n",
      "Train: [     0      1      2 ... 144398 144399 144400] Validation: [     9     16     35 ... 144362 144375 144381]\n",
      "Train: [     0      3      4 ... 144397 144399 144400] Validation: [     1      2     22 ... 144376 144380 144398]\n",
      "Train: [     0      1      2 ... 144398 144399 144400] Validation: [     7     26     48 ... 144340 144361 144369]\n",
      "Train: [     0      1      2 ... 144398 144399 144400] Validation: [    12     21     28 ... 144367 144384 144396]\n",
      "Train: [     0      1      2 ... 144398 144399 144400] Validation: [     3      6     10 ... 144368 144374 144395]\n",
      "Train: [     0      1      2 ... 144398 144399 144400] Validation: [    24     27     31 ... 144391 144392 144397]\n",
      "Train: [     2      3      4 ... 144398 144399 144400] Validation: [     0      1      5 ... 144383 144384 144385]\n",
      "Train: [     0      1      2 ... 144397 144398 144400] Validation: [     3      7     11 ... 144389 144390 144399]\n",
      "Train: [     0      1      2 ... 144398 144399 144400] Validation: [    12     13     45 ... 144386 144393 144395]\n",
      "Train: [     0      1      2 ... 144398 144399 144400] Validation: [     8     29     32 ... 144361 144365 144378]\n",
      "Train: [     0      1      2 ... 144397 144398 144399] Validation: [    20     22     23 ... 144368 144371 144400]\n",
      "Train: [     0      1      2 ... 144398 144399 144400] Validation: [     4     15     38 ... 144387 144394 144396]\n",
      "Train: [     0      1      2 ... 144398 144399 144400] Validation: [    19     21     48 ... 144344 144372 144376]\n",
      "Train: [     0      1      3 ... 144398 144399 144400] Validation: [     2     10     25 ... 144356 144375 144379]\n",
      "Train: [     0      1      2 ... 144397 144399 144400] Validation: [     6     14     18 ... 144363 144366 144398]\n",
      "Train: [     0      1      2 ... 144398 144399 144400] Validation: [    13     37     46 ... 144353 144370 144378]\n",
      "Train: [     0      1      2 ... 144397 144398 144400] Validation: [    19     21     33 ... 144390 144392 144399]\n",
      "Train: [     0      1      2 ... 144398 144399 144400] Validation: [     3      4     10 ... 144358 144372 144389]\n",
      "Train: [     0      1      2 ... 144398 144399 144400] Validation: [    11     23     24 ... 144373 144383 144384]\n",
      "Train: [     0      2      3 ... 144398 144399 144400] Validation: [     1      9     14 ... 144375 144385 144395]\n",
      "Train: [     0      1      2 ... 144397 144399 144400] Validation: [     8     40     44 ... 144388 144393 144398]\n",
      "Train: [     0      1      2 ... 144397 144398 144399] Validation: [     7     39     45 ... 144380 144394 144400]\n",
      "Train: [     1      2      3 ... 144398 144399 144400] Validation: [     0      5     15 ... 144382 144391 144397]\n",
      "Train: [     0      1      3 ... 144398 144399 144400] Validation: [     2     29     36 ... 144359 144362 144396]\n",
      "Train: [     0      1      2 ... 144398 144399 144400] Validation: [     6     20     25 ... 144369 144377 144386]\n",
      "Train: [     0      1      2 ... 144398 144399 144400] Validation: [    11     34     35 ... 144337 144385 144396]\n",
      "Train: [     0      1      2 ... 144397 144398 144400] Validation: [    12     19     23 ... 144381 144382 144399]\n",
      "Train: [     0      1      2 ... 144397 144399 144400] Validation: [     3     10     46 ... 144372 144390 144398]\n",
      "Train: [     0      1      2 ... 144398 144399 144400] Validation: [     4     28     30 ... 144371 144386 144388]\n",
      "Train: [     0      1      2 ... 144398 144399 144400] Validation: [     6     48     54 ... 144379 144387 144391]\n",
      "Train: [     0      1      2 ... 144398 144399 144400] Validation: [    21     32     38 ... 144353 144378 144383]\n",
      "Train: [     0      1      2 ... 144398 144399 144400] Validation: [     5     13     15 ... 144366 144377 144394]\n",
      "Train: [     1      3      4 ... 144398 144399 144400] Validation: [     0      2      7 ... 144389 144395 144397]\n",
      "Train: [     0      1      2 ... 144398 144399 144400] Validation: [    16     17     22 ... 144368 144376 144393]\n",
      "Train: [     0      2      3 ... 144397 144398 144399] Validation: [     1      8      9 ... 144375 144392 144400]\n",
      "Train: [     0      1      2 ... 144397 144398 144400] Validation: [    19     22     23 ... 144386 144390 144399]\n",
      "Train: [     0      1      2 ... 144398 144399 144400] Validation: [     5     17     26 ... 144342 144376 144387]\n",
      "Train: [     1      2      3 ... 144397 144399 144400] Validation: [     0      7     13 ... 144394 144396 144398]\n",
      "Train: [     0      1      2 ... 144398 144399 144400] Validation: [     6     10     30 ... 144356 144369 144373]\n",
      "Train: [     0      1      2 ... 144398 144399 144400] Validation: [     3      9     11 ... 144334 144358 144384]\n",
      "Train: [     0      1      2 ... 144398 144399 144400] Validation: [    14     51     52 ... 144363 144380 144388]\n",
      "Train: [     0      2      3 ... 144398 144399 144400] Validation: [     1     20     28 ... 144385 144389 144391]\n",
      "Train: [     0      1      2 ... 144398 144399 144400] Validation: [    15     18     25 ... 144371 144377 144395]\n",
      "Train: [     0      1      2 ... 144398 144399 144400] Validation: [    21     36     40 ... 144349 144354 144366]\n",
      "Train: [     0      1      3 ... 144396 144398 144399] Validation: [     2      4      8 ... 144393 144397 144400]\n",
      "Train: [     0      1      3 ... 144397 144398 144399] Validation: [     2      7      9 ... 144345 144354 144400]\n",
      "Train: [     1      2      3 ... 144397 144398 144400] Validation: [     0      8     13 ... 144375 144381 144399]\n",
      "Train: [     0      1      2 ... 144397 144399 144400] Validation: [    23     25     36 ... 144394 144396 144398]\n",
      "Train: [     0      1      2 ... 144398 144399 144400] Validation: [     3     19     26 ... 144365 144376 144393]\n",
      "Train: [     0      2      3 ... 144398 144399 144400] Validation: [     1     27     55 ... 144318 144328 144382]\n",
      "Train: [     0      1      2 ... 144398 144399 144400] Validation: [    39     42     46 ... 144380 144385 144387]\n",
      "Train: [     0      1      2 ... 144398 144399 144400] Validation: [     6     44     57 ... 144379 144386 144388]\n",
      "Train: [     0      1      2 ... 144398 144399 144400] Validation: [     4      5     10 ... 144346 144356 144397]\n",
      "Train: [     0      1      2 ... 144398 144399 144400] Validation: [    11     12     15 ... 144369 144390 144392]\n",
      "Train: [     0      1      2 ... 144398 144399 144400] Validation: [    21     30     64 ... 144383 144389 144395]\n",
      "Train: [     0      1      2 ... 144398 144399 144400] Validation: [     6     22     27 ... 144386 144389 144390]\n",
      "Train: [     0      1      3 ... 144398 144399 144400] Validation: [     2     10     16 ... 144377 144380 144394]\n",
      "Train: [     0      1      2 ... 144398 144399 144400] Validation: [     3     14     31 ... 144371 144392 144393]\n",
      "Train: [     0      1      2 ... 144397 144398 144400] Validation: [     4     17     20 ... 144302 144311 144399]\n",
      "Train: [     1      2      3 ... 144398 144399 144400] Validation: [     0      8     15 ... 144372 144383 144385]\n",
      "Train: [     0      2      3 ... 144397 144399 144400] Validation: [     1      5      7 ... 144387 144395 144398]\n",
      "Train: [     0      1      2 ... 144397 144398 144399] Validation: [    34     51     53 ... 144375 144382 144400]\n",
      "Train: [     0      1      2 ... 144398 144399 144400] Validation: [     9     24     33 ... 144348 144357 144397]\n",
      "Train: [     0      1      2 ... 144398 144399 144400] Validation: [    11     19     21 ... 144384 144388 144396]\n",
      "Train: [     0      1      2 ... 144398 144399 144400] Validation: [    13     41     58 ... 144365 144376 144391]\n",
      "Train: [     0      1      2 ... 144397 144398 144399] Validation: [     6     26     46 ... 144380 144388 144400]\n",
      "Train: [     0      1      2 ... 144398 144399 144400] Validation: [     9     19     30 ... 144379 144391 144392]\n",
      "Train: [     0      1      3 ... 144397 144399 144400] Validation: [     2     11     12 ... 144360 144374 144398]\n",
      "Train: [     0      1      2 ... 144398 144399 144400] Validation: [    13     20     33 ... 144382 144385 144390]\n"
     ]
    },
    {
     "name": "stdout",
     "output_type": "stream",
     "text": [
      "Train: [     0      1      2 ... 144398 144399 144400] Validation: [    10     25     31 ... 144386 144394 144395]\n",
      "Train: [     0      1      2 ... 144398 144399 144400] Validation: [    14     28     29 ... 144370 144375 144389]\n",
      "Train: [     1      2      3 ... 144398 144399 144400] Validation: [     0     17     32 ... 144376 144384 144396]\n",
      "Train: [     0      2      3 ... 144398 144399 144400] Validation: [     1      4      5 ... 144354 144369 144387]\n",
      "Train: [     0      1      2 ... 144398 144399 144400] Validation: [     8     16     18 ... 144355 144377 144383]\n",
      "Train: [     0      1      2 ... 144396 144398 144400] Validation: [     3      7     15 ... 144393 144397 144399]\n",
      "Train: [     0      1      2 ... 144398 144399 144400] Validation: [    24     37     40 ... 144376 144377 144379]\n",
      "Train: [     0      1      2 ... 144398 144399 144400] Validation: [     3      4      5 ... 144344 144386 144397]\n",
      "Train: [     0      1      2 ... 144398 144399 144400] Validation: [    16     26     28 ... 144387 144391 144393]\n",
      "Train: [     0      1      2 ... 144398 144399 144400] Validation: [    27     61     65 ... 144331 144360 144378]\n",
      "Train: [     1      2      3 ... 144398 144399 144400] Validation: [     0      6     13 ... 144364 144373 144395]\n",
      "Train: [     0      1      2 ... 144397 144398 144399] Validation: [     9     11     12 ... 144368 144389 144400]\n",
      "Train: [     0      3      4 ... 144397 144398 144400] Validation: [     1      2     20 ... 144390 144392 144399]\n",
      "Train: [     0      1      2 ... 144397 144399 144400] Validation: [     8     18     33 ... 144371 144382 144398]\n",
      "Train: [     0      1      2 ... 144398 144399 144400] Validation: [     7     10     15 ... 144383 144384 144385]\n",
      "Train: [     0      1      2 ... 144398 144399 144400] Validation: [    25     49     63 ... 144388 144394 144396]\n",
      "Train: [     0      1      2 ... 144396 144398 144400] Validation: [     4     18     23 ... 144393 144397 144399]\n",
      "Train: [     0      1      2 ... 144398 144399 144400] Validation: [     8     13     16 ... 144346 144376 144377]\n",
      "Train: [     0      1      2 ... 144398 144399 144400] Validation: [    10     14     15 ... 144388 144389 144392]\n",
      "Train: [     0      1      2 ... 144398 144399 144400] Validation: [    17     22     26 ... 144356 144361 144372]\n",
      "Train: [     0      1      2 ... 144398 144399 144400] Validation: [    20     38     59 ... 144375 144382 144390]\n",
      "Train: [     0      1      3 ... 144398 144399 144400] Validation: [     2      6     21 ... 144381 144391 144394]\n",
      "Train: [     0      2      4 ... 144398 144399 144400] Validation: [     1      3      9 ... 144370 144379 144386]\n",
      "Train: [     0      1      2 ... 144397 144399 144400] Validation: [     7     52     53 ... 144384 144385 144398]\n",
      "Train: [     0      1      2 ... 144398 144399 144400] Validation: [     5     30     49 ... 144378 144387 144395]\n",
      "Train: [     1      2      3 ... 144397 144398 144399] Validation: [     0     25     27 ... 144383 144396 144400]\n"
     ]
    }
   ],
   "source": [
    "from sklearn.model_selection import RepeatedKFold \n",
    "kf = RepeatedKFold(n_splits=10, n_repeats=10, random_state=None) \n",
    "\n",
    "for train_index, test_index in kf.split(X):\n",
    "    print(\"Train:\", train_index, \"Validation:\",test_index)\n",
    "    X_train, X_test = X.iloc[train_index], X.iloc[test_index] \n",
    "    y_train, y_test = y[train_index], y[test_index]"
   ]
  },
  {
   "cell_type": "markdown",
   "metadata": {},
   "source": [
    "## Neural Network"
   ]
  },
  {
   "cell_type": "code",
   "execution_count": 47,
   "metadata": {},
   "outputs": [
    {
     "data": {
      "text/plain": [
       "MLPClassifier(alpha=1e-05, hidden_layer_sizes=(5, 5), random_state=1,\n",
       "              solver='lbfgs')"
      ]
     },
     "execution_count": 47,
     "metadata": {},
     "output_type": "execute_result"
    }
   ],
   "source": [
    "from sklearn.neural_network import MLPClassifier\n",
    "clf = MLPClassifier(solver='lbfgs', alpha=1e-5,hidden_layer_sizes=(5, 5), random_state=1)\n",
    "clf.fit(X_train,y_train)"
   ]
  },
  {
   "cell_type": "code",
   "execution_count": 48,
   "metadata": {},
   "outputs": [
    {
     "data": {
      "text/plain": [
       "0.2578254847645429"
      ]
     },
     "execution_count": 48,
     "metadata": {},
     "output_type": "execute_result"
    }
   ],
   "source": [
    "pred = clf.predict(X_test)\n",
    "accuracy_score(y_test,pred)"
   ]
  },
  {
   "cell_type": "code",
   "execution_count": 49,
   "metadata": {},
   "outputs": [
    {
     "data": {
      "image/png": "[encoded data removed]",
      "text/plain": [
       "<Figure size 432x288 with 2 Axes>"
      ]
     },
     "metadata": {
      "needs_background": "light"
     },
     "output_type": "display_data"
    }
   ],
   "source": [
    "from sklearn.datasets import make_classification\n",
    "from sklearn.metrics import plot_confusion_matrix\n",
    "plot_confusion_matrix(clf, X_test, y_test)\n",
    "plt.title('Confusion matrix for Neural Network')\n",
    "plt.show()  "
   ]
  },
  {
   "cell_type": "code",
   "execution_count": 50,
   "metadata": {},
   "outputs": [
    {
     "name": "stdout",
     "output_type": "stream",
     "text": [
      "Classification report : \n",
      "               precision    recall  f1-score   support\n",
      "\n",
      "           0       0.00      0.00      0.00      1682\n",
      "           1       0.00      0.00      0.00      3164\n",
      "           2       0.26      1.00      0.41      3723\n",
      "           3       0.00      0.00      0.00      3440\n",
      "           4       0.00      0.00      0.00      2431\n",
      "\n",
      "    accuracy                           0.26     14440\n",
      "   macro avg       0.05      0.20      0.08     14440\n",
      "weighted avg       0.07      0.26      0.11     14440\n",
      "\n"
     ]
    },
    {
     "name": "stderr",
     "output_type": "stream",
     "text": [
      "C:\\ProgramData\\Anaconda3\\lib\\site-packages\\sklearn\\metrics\\_classification.py:1221: UndefinedMetricWarning: Precision and F-score are ill-defined and being set to 0.0 in labels with no predicted samples. Use `zero_division` parameter to control this behavior.\n",
      "  _warn_prf(average, modifier, msg_start, len(result))\n"
     ]
    }
   ],
   "source": [
    "from sklearn.metrics import classification_report\n",
    "\n",
    "\n",
    "# classification report for precision, recall f1-score and accuracy\n",
    "matrix = classification_report(y_test,pred,labels=[0,1,2,3,4])\n",
    "print('Classification report : \\n',matrix)"
   ]
  },
  {
   "cell_type": "code",
   "execution_count": 51,
   "metadata": {},
   "outputs": [
    {
     "data": {
      "image/png": "[encoded data removed]",
      "text/plain": [
       "<Figure size 432x288 with 1 Axes>"
      ]
     },
     "metadata": {
      "needs_background": "light"
     },
     "output_type": "display_data"
    }
   ],
   "source": [
    "# fit model\n",
    "#multi-class classification\n",
    "from sklearn.multiclass import OneVsRestClassifier\n",
    "from sklearn.metrics import roc_curve\n",
    "from sklearn.metrics import roc_auc_score\n",
    "\n",
    "pred_prob = clf.predict_proba(X_test)\n",
    "\n",
    "# roc curve for classes\n",
    "fpr = {}\n",
    "tpr = {}\n",
    "thresh ={}\n",
    "\n",
    "n_class = 5\n",
    "\n",
    "for i in range(n_class):    \n",
    "    fpr[i], tpr[i], thresh[i] = roc_curve(y_test, pred_prob[:,i], pos_label=i)\n",
    "    \n",
    "# plotting    \n",
    "plt.plot(fpr[0], tpr[0], linestyle='--',color='orange', label='Class 0 vs Rest')\n",
    "plt.plot(fpr[1], tpr[1], linestyle='--',color='green', label='Class 1 vs Rest')\n",
    "plt.plot(fpr[2], tpr[2], linestyle='--',color='blue', label='Class 2 vs Rest')\n",
    "plt.plot(fpr[3], tpr[3], linestyle='--',color='red', label='Class 3 vs Rest')\n",
    "plt.plot(fpr[4], tpr[4], linestyle='--',color='white', label='Class 4 vs Rest')\n",
    "plt.title('Multiclass ROC curve for Neural network')\n",
    "plt.xlabel('False Positive Rate')\n",
    "plt.ylabel('True Positive rate')\n",
    "plt.legend(loc='best')\n",
    "plt.savefig('Multiclass ROC',dpi=300)"
   ]
  },
  {
   "cell_type": "markdown",
   "metadata": {},
   "source": [
    "## SVM"
   ]
  },
  {
   "cell_type": "code",
   "execution_count": 52,
   "metadata": {},
   "outputs": [],
   "source": [
    "import numpy as np\n",
    "import matplotlib.pyplot as plt\n",
    "from sklearn import svm"
   ]
  },
  {
   "cell_type": "code",
   "execution_count": 53,
   "metadata": {},
   "outputs": [],
   "source": [
    "# we create an instance of SVM and fit out data. We do not scale our\n",
    "# data since we want to plot the support vectors\n",
    "C = 1.0 # SVM regularization parameter\n",
    "svc = svm.SVC(kernel='linear', C=1,gamma='auto').fit(X, y)"
   ]
  },
  {
   "cell_type": "code",
   "execution_count": null,
   "metadata": {},
   "outputs": [],
   "source": [
    "y_pred = svc.predict(X_test)\n",
    "from sklearn import metrics\n",
    "\n",
    "# Model Accuracy: how often is the classifier correct?\n",
    "print(\"Accuracy:\",metrics.accuracy_score(y_test, y_pred))"
   ]
  },
  {
   "cell_type": "code",
   "execution_count": null,
   "metadata": {},
   "outputs": [],
   "source": [
    "# Confusion matrix for SVM\n",
    "import matplotlib.pyplot as plt  \n",
    "from sklearn.datasets import make_classification\n",
    "from sklearn.metrics import plot_confusion_matrix\n",
    "from sklearn.model_selection import train_test_split\n",
    "from sklearn.svm import SVC\n",
    "\n",
    "clf = SVC(random_state=0)\n",
    "clf.fit(X_train, y_train)\n",
    "SVC(random_state=0)\n",
    "plot_confusion_matrix(svc, X_test, y_test)  \n",
    "plt.title('The confusion matrix for SVM')\n",
    "plt.show()  "
   ]
  },
  {
   "cell_type": "code",
   "execution_count": null,
   "metadata": {},
   "outputs": [],
   "source": [
    "#multi-class classification\n",
    "from sklearn.multiclass import OneVsRestClassifier\n",
    "from sklearn.metrics import roc_curve\n",
    "from sklearn.metrics import roc_auc_score"
   ]
  },
  {
   "cell_type": "code",
   "execution_count": null,
   "metadata": {},
   "outputs": [],
   "source": [
    "from sklearn.metrics import classification_report\n",
    "\n",
    "\n",
    "# classification report for precision, recall f1-score and accuracy\n",
    "matrix = classification_report(y_test,y_pred,labels=[0,1,2,3,4])\n",
    "print('Classification report : \\n',matrix)"
   ]
  },
  {
   "cell_type": "markdown",
   "metadata": {},
   "source": [
    "## KNN"
   ]
  },
  {
   "cell_type": "code",
   "execution_count": 54,
   "metadata": {},
   "outputs": [
    {
     "data": {
      "text/plain": [
       "KNeighborsClassifier(n_neighbors=10)"
      ]
     },
     "execution_count": 54,
     "metadata": {},
     "output_type": "execute_result"
    }
   ],
   "source": [
    "\n",
    "from sklearn.neighbors import KNeighborsClassifier\n",
    "from sklearn.preprocessing import StandardScaler\n",
    "\n",
    "\n",
    "\n",
    "\n",
    "knn = KNeighborsClassifier(n_neighbors=10)\n",
    "\n",
    "\n",
    "\n",
    "# for kNN, we need to scale features\n",
    "\n",
    "knn.fit(X_train, y_train)\n"
   ]
  },
  {
   "cell_type": "code",
   "execution_count": 55,
   "metadata": {},
   "outputs": [
    {
     "data": {
      "text/plain": [
       "0.9990304709141274"
      ]
     },
     "execution_count": 55,
     "metadata": {},
     "output_type": "execute_result"
    }
   ],
   "source": [
    "from sklearn.metrics import accuracy_score\n",
    "knn_pred = knn.predict(X_test)\n",
    "accuracy_score(y_test, knn_pred)"
   ]
  },
  {
   "cell_type": "code",
   "execution_count": 56,
   "metadata": {},
   "outputs": [
    {
     "data": {
      "image/png": "[encoded data removed]",
      "text/plain": [
       "<Figure size 432x288 with 2 Axes>"
      ]
     },
     "metadata": {
      "needs_background": "light"
     },
     "output_type": "display_data"
    }
   ],
   "source": [
    "plot_confusion_matrix(knn, X_test, y_test)\n",
    "plt.title('Confusion matrix for KNN')\n",
    "plt.show()  "
   ]
  },
  {
   "cell_type": "code",
   "execution_count": 57,
   "metadata": {},
   "outputs": [
    {
     "name": "stdout",
     "output_type": "stream",
     "text": [
      "Classification report : \n",
      "               precision    recall  f1-score   support\n",
      "\n",
      "           0       1.00      1.00      1.00      1682\n",
      "           1       1.00      1.00      1.00      3164\n",
      "           2       1.00      1.00      1.00      3723\n",
      "           3       1.00      1.00      1.00      3440\n",
      "           4       1.00      1.00      1.00      2431\n",
      "\n",
      "    accuracy                           1.00     14440\n",
      "   macro avg       1.00      1.00      1.00     14440\n",
      "weighted avg       1.00      1.00      1.00     14440\n",
      "\n"
     ]
    }
   ],
   "source": [
    "from sklearn.metrics import classification_report\n",
    "\n",
    "\n",
    "# classification report for precision, recall f1-score and accuracy\n",
    "matrix = classification_report(y_test,knn_pred,labels=[0,1,2,3,4])\n",
    "print('Classification report : \\n',matrix)"
   ]
  },
  {
   "cell_type": "markdown",
   "metadata": {},
   "source": [
    "## Decision Tree"
   ]
  },
  {
   "cell_type": "code",
   "execution_count": 58,
   "metadata": {},
   "outputs": [
    {
     "data": {
      "text/plain": [
       "DecisionTreeClassifier(max_depth=3, random_state=17)"
      ]
     },
     "execution_count": 58,
     "metadata": {},
     "output_type": "execute_result"
    }
   ],
   "source": [
    "from sklearn.tree import DecisionTreeClassifier\n",
    "tree = DecisionTreeClassifier(max_depth=3, random_state=17)\n",
    "tree.fit(X_train,y_train)"
   ]
  },
  {
   "cell_type": "code",
   "execution_count": 59,
   "metadata": {},
   "outputs": [
    {
     "data": {
      "text/plain": [
       "1.0"
      ]
     },
     "execution_count": 59,
     "metadata": {},
     "output_type": "execute_result"
    }
   ],
   "source": [
    "from sklearn.metrics import accuracy_score\n",
    "tree_pred = tree.predict(X_test)\n",
    "accuracy_score(y_test, tree_pred)"
   ]
  },
  {
   "cell_type": "code",
   "execution_count": 60,
   "metadata": {},
   "outputs": [
    {
     "data": {
      "image/png": "[encoded data removed]",
      "text/plain": [
       "<Figure size 432x288 with 2 Axes>"
      ]
     },
     "metadata": {
      "needs_background": "light"
     },
     "output_type": "display_data"
    }
   ],
   "source": [
    "plot_confusion_matrix(tree, X_test, y_test)\n",
    "plt.title('Confusion matrix for Decision Tree')\n",
    "plt.show()"
   ]
  },
  {
   "cell_type": "code",
   "execution_count": 61,
   "metadata": {},
   "outputs": [
    {
     "name": "stdout",
     "output_type": "stream",
     "text": [
      "Classification report : \n",
      "               precision    recall  f1-score   support\n",
      "\n",
      "           0       1.00      1.00      1.00      1682\n",
      "           1       1.00      1.00      1.00      3164\n",
      "           2       1.00      1.00      1.00      3723\n",
      "           3       1.00      1.00      1.00      3440\n",
      "           4       1.00      1.00      1.00      2431\n",
      "\n",
      "    accuracy                           1.00     14440\n",
      "   macro avg       1.00      1.00      1.00     14440\n",
      "weighted avg       1.00      1.00      1.00     14440\n",
      "\n"
     ]
    }
   ],
   "source": [
    "from sklearn.metrics import classification_report\n",
    "\n",
    "\n",
    "# classification report for precision, recall f1-score and accuracy\n",
    "matrix = classification_report(y_test,tree_pred,labels=[0,1,2,3,4])\n",
    "print('Classification report : \\n',matrix)"
   ]
  },
  {
   "cell_type": "markdown",
   "metadata": {},
   "source": [
    "## Random Forest"
   ]
  },
  {
   "cell_type": "code",
   "execution_count": 62,
   "metadata": {},
   "outputs": [],
   "source": [
    "from sklearn.ensemble import RandomForestClassifier as rf\n",
    "\n",
    "clf = rf(max_depth = 2, random_state = 0)\n",
    "\n",
    "clf.fit(X_train,y_train)\n",
    "\n",
    "y_pred = clf.predict(X_test)"
   ]
  },
  {
   "cell_type": "code",
   "execution_count": 63,
   "metadata": {},
   "outputs": [
    {
     "data": {
      "text/plain": [
       "0.7161357340720221"
      ]
     },
     "execution_count": 63,
     "metadata": {},
     "output_type": "execute_result"
    }
   ],
   "source": [
    "accuracy_score(y_pred,y_test)"
   ]
  },
  {
   "cell_type": "code",
   "execution_count": 64,
   "metadata": {},
   "outputs": [
    {
     "data": {
      "image/png": "[encoded data removed]",
      "text/plain": [
       "<Figure size 432x288 with 2 Axes>"
      ]
     },
     "metadata": {
      "needs_background": "light"
     },
     "output_type": "display_data"
    }
   ],
   "source": [
    "plot_confusion_matrix(clf, X_test, y_test)\n",
    "plt.title('Confusion matrix for Random Forest')\n",
    "plt.show()"
   ]
  },
  {
   "cell_type": "code",
   "execution_count": 65,
   "metadata": {},
   "outputs": [
    {
     "name": "stdout",
     "output_type": "stream",
     "text": [
      "Classification report : \n",
      "               precision    recall  f1-score   support\n",
      "\n",
      "           0       0.00      0.00      0.00      1682\n",
      "           1       0.65      1.00      0.79      3164\n",
      "           2       1.00      1.00      1.00      3723\n",
      "           3       0.59      1.00      0.74      3440\n",
      "           4       1.00      0.01      0.01      2431\n",
      "\n",
      "    accuracy                           0.72     14440\n",
      "   macro avg       0.65      0.60      0.51     14440\n",
      "weighted avg       0.71      0.72      0.61     14440\n",
      "\n"
     ]
    },
    {
     "name": "stderr",
     "output_type": "stream",
     "text": [
      "C:\\ProgramData\\Anaconda3\\lib\\site-packages\\sklearn\\metrics\\_classification.py:1221: UndefinedMetricWarning: Precision and F-score are ill-defined and being set to 0.0 in labels with no predicted samples. Use `zero_division` parameter to control this behavior.\n",
      "  _warn_prf(average, modifier, msg_start, len(result))\n"
     ]
    }
   ],
   "source": [
    "from sklearn.metrics import classification_report\n",
    "\n",
    "\n",
    "# classification report for precision, recall f1-score and accuracy\n",
    "matrix = classification_report(y_test,y_pred,labels=[0,1,2,3,4])\n",
    "print('Classification report : \\n',matrix)"
   ]
  },
  {
   "cell_type": "code",
   "execution_count": 66,
   "metadata": {},
   "outputs": [
    {
     "data": {
      "image/png": "[encoded data removed]",
      "text/plain": [
       "<Figure size 432x288 with 1 Axes>"
      ]
     },
     "metadata": {
      "needs_background": "light"
     },
     "output_type": "display_data"
    }
   ],
   "source": [
    "# fit model\n",
    "\n",
    "pred = clf.predict(X_test)\n",
    "pred_prob = clf.predict_proba(X_test)\n",
    "\n",
    "# roc curve for classes\n",
    "fpr = {}\n",
    "tpr = {}\n",
    "thresh ={}\n",
    "\n",
    "n_class = 5\n",
    "\n",
    "for i in range(n_class):    \n",
    "    fpr[i], tpr[i], thresh[i] = roc_curve(y_test, pred_prob[:,i], pos_label=i)\n",
    "    \n",
    "# plotting    \n",
    "plt.plot(fpr[0], tpr[0], linestyle='--',color='orange', label='Class 0 vs Rest')\n",
    "plt.plot(fpr[1], tpr[1], linestyle='--',color='green', label='Class 1 vs Rest')\n",
    "plt.plot(fpr[2], tpr[2], linestyle='--',color='blue', label='Class 2 vs Rest')\n",
    "plt.plot(fpr[3], tpr[3], linestyle='--',color='red', label='Class 3 vs Rest')\n",
    "plt.plot(fpr[4], tpr[4], linestyle='--',color='white', label='Class 4 vs Rest')\n",
    "plt.title('Multiclass ROC curve for Random Forest')\n",
    "plt.xlabel('False Positive Rate')\n",
    "plt.ylabel('True Positive rate')\n",
    "plt.legend(loc='best')\n",
    "plt.savefig('Multiclass ROC',dpi=300)"
   ]
  },
  {
   "cell_type": "markdown",
   "metadata": {},
   "source": [
    "## Logistic regression"
   ]
  },
  {
   "cell_type": "code",
   "execution_count": 67,
   "metadata": {},
   "outputs": [
    {
     "name": "stderr",
     "output_type": "stream",
     "text": [
      "C:\\ProgramData\\Anaconda3\\lib\\site-packages\\sklearn\\linear_model\\_logistic.py:762: ConvergenceWarning: lbfgs failed to converge (status=1):\n",
      "STOP: TOTAL NO. of ITERATIONS REACHED LIMIT.\n",
      "\n",
      "Increase the number of iterations (max_iter) or scale the data as shown in:\n",
      "    https://scikit-learn.org/stable/modules/preprocessing.html\n",
      "Please also refer to the documentation for alternative solver options:\n",
      "    https://scikit-learn.org/stable/modules/linear_model.html#logistic-regression\n",
      "  n_iter_i = _check_optimize_result(\n"
     ]
    }
   ],
   "source": [
    "from sklearn.linear_model import LogisticRegression \n",
    "clf = LogisticRegression(random_state=0).fit(X_train, y_train)\n",
    "y_pred = clf.predict(X_test)"
   ]
  },
  {
   "cell_type": "code",
   "execution_count": 68,
   "metadata": {},
   "outputs": [
    {
     "data": {
      "text/plain": [
       "1.0"
      ]
     },
     "execution_count": 68,
     "metadata": {},
     "output_type": "execute_result"
    }
   ],
   "source": [
    "accuracy_score(y_pred,y_test)"
   ]
  },
  {
   "cell_type": "code",
   "execution_count": 69,
   "metadata": {},
   "outputs": [
    {
     "data": {
      "image/png": "[encoded data removed]",
      "text/plain": [
       "<Figure size 432x288 with 2 Axes>"
      ]
     },
     "metadata": {
      "needs_background": "light"
     },
     "output_type": "display_data"
    }
   ],
   "source": [
    "plot_confusion_matrix(clf, X_test, y_test)\n",
    "plt.title('Confusion matrix for Logistic Regression')\n",
    "plt.show()"
   ]
  },
  {
   "cell_type": "code",
   "execution_count": 70,
   "metadata": {},
   "outputs": [
    {
     "name": "stdout",
     "output_type": "stream",
     "text": [
      "Classification report for Logistic regression : \n",
      "               precision    recall  f1-score   support\n",
      "\n",
      "           0       1.00      1.00      1.00      1682\n",
      "           1       1.00      1.00      1.00      3164\n",
      "           2       1.00      1.00      1.00      3723\n",
      "           3       1.00      1.00      1.00      3440\n",
      "           4       1.00      1.00      1.00      2431\n",
      "\n",
      "    accuracy                           1.00     14440\n",
      "   macro avg       1.00      1.00      1.00     14440\n",
      "weighted avg       1.00      1.00      1.00     14440\n",
      "\n"
     ]
    }
   ],
   "source": [
    "from sklearn.metrics import classification_report\n",
    "\n",
    "\n",
    "# classification report for precision, recall f1-score and accuracy\n",
    "matrix = classification_report(y_test,y_pred,labels=[0,1,2,3,4])\n",
    "print('Classification report for Logistic regression : \\n',matrix)"
   ]
  },
  {
   "cell_type": "code",
   "execution_count": 71,
   "metadata": {},
   "outputs": [
    {
     "data": {
      "image/png": "[encoded data removed]",
      "text/plain": [
       "<Figure size 432x288 with 1 Axes>"
      ]
     },
     "metadata": {
      "needs_background": "light"
     },
     "output_type": "display_data"
    }
   ],
   "source": [
    "# fit model\n",
    "\n",
    "pred = clf.predict(X_test)\n",
    "pred_prob = clf.predict_proba(X_test)\n",
    "\n",
    "# roc curve for classes\n",
    "fpr = {}\n",
    "tpr = {}\n",
    "thresh ={}\n",
    "\n",
    "n_class = 5\n",
    "\n",
    "for i in range(n_class):    \n",
    "    fpr[i], tpr[i], thresh[i] = roc_curve(y_test, pred_prob[:,i], pos_label=i)\n",
    "    \n",
    "# plotting    \n",
    "plt.plot(fpr[0], tpr[0], linestyle='--',color='orange', label='Class 0 vs Rest')\n",
    "plt.plot(fpr[1], tpr[1], linestyle='--',color='green', label='Class 1 vs Rest')\n",
    "plt.plot(fpr[2], tpr[2], linestyle='--',color='blue', label='Class 2 vs Rest')\n",
    "plt.plot(fpr[3], tpr[3], linestyle='--',color='red', label='Class 3 vs Rest')\n",
    "plt.plot(fpr[4], tpr[4], linestyle='--',color='white', label='Class 4 vs Rest')\n",
    "plt.title('Multiclass ROC curve for Logistic Regression')\n",
    "plt.xlabel('False Positive Rate')\n",
    "plt.ylabel('True Positive rate')\n",
    "plt.legend(loc='best')\n",
    "plt.savefig('Multiclass ROC',dpi=300)"
   ]
  },
  {
   "cell_type": "markdown",
   "metadata": {},
   "source": [
    "## Naive Bayes"
   ]
  },
  {
   "cell_type": "code",
   "execution_count": 72,
   "metadata": {},
   "outputs": [
    {
     "data": {
      "text/plain": [
       "1.0"
      ]
     },
     "execution_count": 72,
     "metadata": {},
     "output_type": "execute_result"
    }
   ],
   "source": [
    "from sklearn.naive_bayes import GaussianNB\n",
    "\n",
    "model = GaussianNB()\n",
    "\n",
    "model.fit(X_train,y_train)\n",
    "\n",
    "accuracy_score(y_test,model.predict(X_test))\n"
   ]
  },
  {
   "cell_type": "code",
   "execution_count": 73,
   "metadata": {},
   "outputs": [
    {
     "data": {
      "image/png": "[encoded data removed]",
      "text/plain": [
       "<Figure size 432x288 with 2 Axes>"
      ]
     },
     "metadata": {
      "needs_background": "light"
     },
     "output_type": "display_data"
    }
   ],
   "source": [
    "plot_confusion_matrix(model, X_test, y_test)\n",
    "plt.title('Confusion matrix for Naive Bayes')\n",
    "plt.show()"
   ]
  },
  {
   "cell_type": "code",
   "execution_count": 74,
   "metadata": {},
   "outputs": [
    {
     "name": "stdout",
     "output_type": "stream",
     "text": [
      "Classification report for Naive Bayes : \n",
      "               precision    recall  f1-score   support\n",
      "\n",
      "           0       1.00      1.00      1.00      1682\n",
      "           1       1.00      1.00      1.00      3164\n",
      "           2       1.00      1.00      1.00      3723\n",
      "           3       1.00      1.00      1.00      3440\n",
      "           4       1.00      1.00      1.00      2431\n",
      "\n",
      "    accuracy                           1.00     14440\n",
      "   macro avg       1.00      1.00      1.00     14440\n",
      "weighted avg       1.00      1.00      1.00     14440\n",
      "\n"
     ]
    }
   ],
   "source": [
    "from sklearn.metrics import classification_report\n",
    "\n",
    "\n",
    "# classification report for precision, recall f1-score and accuracy\n",
    "matrix = classification_report(y_test,model.predict(X_test),labels=[0,1,2,3,4])\n",
    "print('Classification report for Naive Bayes : \\n',matrix)"
   ]
  },
  {
   "cell_type": "code",
   "execution_count": null,
   "metadata": {},
   "outputs": [],
   "source": []
  },
  {
   "cell_type": "code",
   "execution_count": null,
   "metadata": {},
   "outputs": [],
   "source": []
  },
  {
   "cell_type": "code",
   "execution_count": null,
   "metadata": {},
   "outputs": [],
   "source": []
  }
 ],
 "metadata": {
  "colab": {
   "collapsed_sections": [
    "9k5WJnk93z7Y",
    "CJC3da8933Q7"
   ],
   "name": "Flood Prediction.ipynb",
   "provenance": []
  },
  "kernelspec": {
   "display_name": "Python 3 (ipykernel)",
   "language": "python",
   "name": "python3"
  },
  "language_info": {
   "codemirror_mode": {
    "name": "ipython",
    "version": 3
   },
   "file_extension": ".py",
   "mimetype": "text/x-python",
   "name": "python",
   "nbconvert_exporter": "python",
   "pygments_lexer": "ipython3",
   "version": "3.9.12"
  }
 },
 "nbformat": 4,
 "nbformat_minor": 1
}
